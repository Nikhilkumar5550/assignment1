{
 "cells": [
  {
   "cell_type": "code",
   "execution_count": null,
   "id": "5c9fe9c2-7e7d-429a-b745-00c1faa75bf7",
   "metadata": {},
   "outputs": [],
   "source": []
  },
  {
   "cell_type": "markdown",
   "id": "a5fa4c30-bf37-41f0-94c2-85614f1d7249",
   "metadata": {},
   "source": [
    "Q1.What is multiprocessing in python? Why is it useful?"
   ]
  },
  {
   "cell_type": "markdown",
   "id": "a252ce7f-23eb-420d-b1e3-6b69647e59ed",
   "metadata": {},
   "source": [
    "Answer: Multiprocessing refers to the ability of a system to support more than one processor at the same time. Applications in a multiprocessing system are broken to smaller routines that run independently. The operating system allocates these threads to the processors improving performance of the system.\n",
    "\n",
    "Multiprocessing is useful for CPU-bound processes, such as computationally heavy tasks since it will benefit from having multiple processors; similar to how multicore computers work faster than computers with a single core."
   ]
  },
  {
   "cell_type": "markdown",
   "id": "a985f87a-3006-4e8d-862d-60bbbf4a9c13",
   "metadata": {},
   "source": [
    "Q2.What are the differences between multiprocessing and multithreading?"
   ]
  },
  {
   "cell_type": "markdown",
   "id": "c7abd88c-10fb-4ba4-b8ba-c215deb81828",
   "metadata": {},
   "source": [
    "Answer: Multiprocessing executes many processes simultaneously, whereas multithreading executes many threads simultaneously. Multithreading uses a common address space for all the threads, whereas multiprocessing creates a separate address space for each process."
   ]
  },
  {
   "cell_type": "markdown",
   "id": "b716b3f8-6268-4c85-b3a6-1eef15bf3a8d",
   "metadata": {},
   "source": [
    "Q3.Write a python code to create a process using the multiprocessing module."
   ]
  },
  {
   "cell_type": "code",
   "execution_count": 1,
   "id": "10d8b06f-473a-4233-a94d-7ef1b2bd72d3",
   "metadata": {},
   "outputs": [
    {
     "name": "stdout",
     "output_type": "stream",
     "text": [
      "Square: 100\n",
      "Cube: 1000\n",
      "Completed!\n"
     ]
    }
   ],
   "source": [
    "# importing the multiprocessing module\n",
    "import multiprocessing\n",
    "  \n",
    "def print_cube(num):\n",
    "    \"\"\"\n",
    "    function to print cube of given num\n",
    "    \"\"\"\n",
    "    print(\"Cube: {}\".format(num * num * num))\n",
    "  \n",
    "def print_square(num):\n",
    "    \"\"\"\n",
    "    function to print square of given num\n",
    "    \"\"\"\n",
    "    print(\"Square: {}\".format(num * num))\n",
    "  \n",
    "if __name__ == \"__main__\":\n",
    "    p1 = multiprocessing.Process(target=print_square, args=(10, ))\n",
    "    p2 = multiprocessing.Process(target=print_cube, args=(10, ))\n",
    "  \n",
    "    p1.start()\n",
    "    p2.start()\n",
    "  \n",
    "    p1.join()\n",
    "    p2.join()\n",
    "  \n",
    "    print(\"Completed!\")"
   ]
  },
  {
   "cell_type": "markdown",
   "id": "2c1a61ac-23f7-4626-99f7-4c31fb3d3a86",
   "metadata": {},
   "source": [
    "Q4. What is a multiprocessing pool in python? Why is it used?"
   ]
  },
  {
   "cell_type": "markdown",
   "id": "3e6d2d76-6a68-4c45-aee0-5b815916216c",
   "metadata": {},
   "source": [
    "Answer:The Python Multiprocessing Pool class allows you to create and manage process pools in Python.The multiprocessing.pool.Pool class can also be accessed by the alias multiprocessing.Pool. They can be used interchangeably.\n",
    "\n",
    "Python multiprocessing Pool can be used for parallel execution of a function across multiple input values, distributing the input data across processes (data parallelism)."
   ]
  },
  {
   "cell_type": "markdown",
   "id": "9c8168dd-6d53-4c4b-a3f1-b555fb452336",
   "metadata": {},
   "source": [
    "Q5. How can we create a pool of worker processes in python using the multiprocessing module?"
   ]
  },
  {
   "cell_type": "markdown",
   "id": "b639ab61-4a28-4f2a-b868-dade5e0ae110",
   "metadata": {},
   "source": [
    "a few different ways.\n",
    "\n",
    "there are four main steps in the life-cycle of using the multiprocessing.Pool class, they are: create, submit, wait, and shutdown.\n",
    "\n",
    "Create: Create the process pool by calling the constructor multiprocessing.Pool().\n",
    "\n",
    "Submit: Submit tasks synchronously or asynchronously.\n",
    "\n",
    "Wait: Wait and get results as tasks complete (optional).\n",
    "\n",
    "Shutdown: Shutdown the process pool by calling shutdown()."
   ]
  },
  {
   "cell_type": "code",
   "execution_count": 2,
   "id": "a0214072-7f95-4b14-aa7d-e7af8acc38a1",
   "metadata": {},
   "outputs": [
    {
     "name": "stdout",
     "output_type": "stream",
     "text": [
      " Process A waiting 5 seconds Process B waiting 2 seconds\n",
      "\n",
      " Process B Finished.\n",
      " Process C waiting 1 seconds\n",
      " Process C Finished.\n",
      " Process D waiting 3 seconds\n",
      " Process A Finished.\n",
      " Process D Finished.\n"
     ]
    }
   ],
   "source": [
    "# example of pool pf workers processes with multiprocessing module\n",
    "from multiprocessing import Pool\n",
    "\n",
    "import time\n",
    "\n",
    "work = ([\"A\", 5], [\"B\", 2], [\"C\", 1], [\"D\", 3])\n",
    "\n",
    "\n",
    "def work_log(work_data):\n",
    "    print(\" Process %s waiting %s seconds\" % (work_data[0], work_data[1]))\n",
    "    time.sleep(int(work_data[1]))\n",
    "    print(\" Process %s Finished.\" % work_data[0])\n",
    "\n",
    "\n",
    "def pool_handler():\n",
    "    p = Pool(2)\n",
    "    p.map(work_log, work)\n",
    "\n",
    "\n",
    "if __name__ == '__main__':\n",
    "    pool_handler()\n",
    "    "
   ]
  },
  {
   "cell_type": "markdown",
   "id": "65f2a612-61c8-4e09-b179-c633b6908282",
   "metadata": {},
   "source": [
    "Q6.Write a python program to create 4 processes, each process should print a different number using the multiprocessing module in python."
   ]
  },
  {
   "cell_type": "code",
   "execution_count": 3,
   "id": "ea77c6c5-4134-455c-a3ba-56be461293f5",
   "metadata": {},
   "outputs": [
    {
     "name": "stdout",
     "output_type": "stream",
     "text": [
      "Number1 10\n",
      "Number2 11\n",
      "Number3 12\n",
      "Number4 13\n",
      "Done!\n"
     ]
    }
   ],
   "source": [
    "# importing the multiprocessing module\n",
    "import multiprocessing\n",
    "  \n",
    "def Number1(num):\n",
    "    \"\"\"\n",
    "    function to print cube of given num\n",
    "    \"\"\"\n",
    "    print(\"Number1 {}\".format(num))\n",
    "  \n",
    "def Number2(num):\n",
    "    \"\"\"\n",
    "    function to print square of given num\n",
    "    \"\"\"\n",
    "    print(\"Number2 {}\".format(num))\n",
    "    \n",
    "def Number3(num):\n",
    "    \"\"\"\n",
    "    function to print square of given num\n",
    "    \"\"\"\n",
    "    print(\"Number3 {}\".format(num))\n",
    "    \n",
    "def Number4(num):\n",
    "    \"\"\"\n",
    "    function to print square of given num\n",
    "    \"\"\"\n",
    "    print(\"Number4 {}\".format(num))\n",
    "  \n",
    "if __name__ == \"__main__\":\n",
    "    p1 = multiprocessing.Process(target=Number1, args=(10, ))\n",
    "    p2 = multiprocessing.Process(target=Number2, args=(11, ))\n",
    "    p3 = multiprocessing.Process(target=Number3, args=(12, ))\n",
    "    p4 = multiprocessing.Process(target=Number4, args=(13, ))\n",
    "  \n",
    "    p1.start()\n",
    "    p2.start()\n",
    "    p3.start()\n",
    "    p4.start()\n",
    "  \n",
    "    p1.join()\n",
    "    p2.join()\n",
    "    p3.join()\n",
    "    p4.join()\n",
    "  \n",
    "    print(\"Done!\")"
   ]
  },
  {
   "cell_type": "code",
   "execution_count": null,
   "id": "4433f527-983f-4bfe-8d27-e02075816a93",
   "metadata": {},
   "outputs": [],
   "source": []
  },
  {
   "cell_type": "code",
   "execution_count": null,
   "id": "3357f154-6e42-45e3-bd2a-076e803020bd",
   "metadata": {},
   "outputs": [],
   "source": []
  }
 ],
 "metadata": {
  "kernelspec": {
   "display_name": "Python 3 (ipykernel)",
   "language": "python",
   "name": "python3"
  },
  "language_info": {
   "codemirror_mode": {
    "name": "ipython",
    "version": 3
   },
   "file_extension": ".py",
   "mimetype": "text/x-python",
   "name": "python",
   "nbconvert_exporter": "python",
   "pygments_lexer": "ipython3",
   "version": "3.10.8"
  }
 },
 "nbformat": 4,
 "nbformat_minor": 5
}
