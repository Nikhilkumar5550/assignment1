{
 "cells": [
  {
   "cell_type": "code",
   "execution_count": null,
   "id": "3307ae55-eb24-4eca-b25e-1b598fc55535",
   "metadata": {},
   "outputs": [],
   "source": [
    "# Assignment solution\n",
    "# 29 jan 2023"
   ]
  },
  {
   "cell_type": "code",
   "execution_count": null,
   "id": "cf2e2327-03cd-4cc6-ba79-c6784cacfb54",
   "metadata": {},
   "outputs": [],
   "source": [
    "# 1\n",
    "\n",
    "Guido Van Rossum"
   ]
  },
  {
   "cell_type": "code",
   "execution_count": null,
   "id": "df7e4534-e944-49de-ae48-ec27ddfc3944",
   "metadata": {},
   "outputs": [],
   "source": [
    "#2\n",
    "\n",
    "python fully supports objects oriented programming and structured programming"
   ]
  },
  {
   "cell_type": "code",
   "execution_count": null,
   "id": "485967a5-3afa-4741-8080-da89f9b3694c",
   "metadata": {},
   "outputs": [],
   "source": [
    "#3\n",
    "\n",
    "yes python is a case sensitive language. this is applies to indentifiers ."
   ]
  },
  {
   "cell_type": "code",
   "execution_count": null,
   "id": "08a1f012-39a9-4d92-9a0c-bffc83a76240",
   "metadata": {},
   "outputs": [],
   "source": [
    "#4\n",
    "\n",
    ".py"
   ]
  },
  {
   "cell_type": "code",
   "execution_count": null,
   "id": "5ad012da-a7cf-4063-bb94-bf3ccd7b2a95",
   "metadata": {},
   "outputs": [],
   "source": [
    "#5\n",
    "\n",
    "Interpreted"
   ]
  },
  {
   "cell_type": "code",
   "execution_count": null,
   "id": "65748b22-0c9a-41dd-91f1-4d0c6a91c6b0",
   "metadata": {},
   "outputs": [],
   "source": [
    "#6\n",
    "A block is a piece of python code  that is executed as a unit. the following are blocks:\n",
    "a module, a function body, and a class definition."
   ]
  },
  {
   "cell_type": "code",
   "execution_count": null,
   "id": "1c263f5b-b4e2-4940-90b5-71b1ca41e8a7",
   "metadata": {},
   "outputs": [],
   "source": [
    "#7\n",
    "\n",
    "# symbol is used for commenting the single line"
   ]
  },
  {
   "cell_type": "code",
   "execution_count": null,
   "id": "2bd3c513-0a5f-4f86-bfb8-7f4a6483721b",
   "metadata": {},
   "outputs": [],
   "source": [
    "#8\n",
    "\n",
    "The function sys. version can helps us to find the version of python that we are currently using."
   ]
  },
  {
   "cell_type": "code",
   "execution_count": null,
   "id": "f0d5033b-02e7-4e44-b7e2-9914705e164c",
   "metadata": {},
   "outputs": [],
   "source": [
    "#9\n",
    "\n",
    "lambda\n",
    "\n"
   ]
  },
  {
   "cell_type": "code",
   "execution_count": 1,
   "id": "0519329e-2178-4a90-9838-20b0d46490e5",
   "metadata": {},
   "outputs": [],
   "source": [
    "#10\n",
    "\n",
    "pip(prefrred installer program)"
   ]
  },
  {
   "cell_type": "code",
   "execution_count": null,
   "id": "fd914975-8b49-4686-8564-27410a4dfa8e",
   "metadata": {},
   "outputs": [],
   "source": [
    "#11\n",
    "\n",
    "print() function\n",
    "type() function\n",
    "input() function\n",
    "sorted() fuction "
   ]
  },
  {
   "cell_type": "code",
   "execution_count": null,
   "id": "06adff90-f89c-43fe-8b99-667f3175cc08",
   "metadata": {},
   "outputs": [],
   "source": [
    "#12\n",
    "\n",
    "An identifier can have the maximum length of 79 characters. "
   ]
  },
  {
   "cell_type": "code",
   "execution_count": null,
   "id": "304022d6-800c-440c-b312-f3a28264bc71",
   "metadata": {},
   "outputs": [],
   "source": [
    "#13\n",
    "\n",
    "-python programming is general purpose programming language  useed in such field(Data science, web development, system automation etc) so it is helpful in \n",
    "   various type of industy\n",
    "-python is easy to learn and easy to use.\n",
    "-python is extremely productive language beacuse of its simplicity.\n",
    "-python is being an interpreted language so execute the code directly."
   ]
  },
  {
   "cell_type": "code",
   "execution_count": null,
   "id": "2c209be7-61cb-41a0-8271-170865e282c8",
   "metadata": {},
   "outputs": [],
   "source": [
    "#14\n",
    "\n",
    "memory management in python involves a private heap containing all python object and data structure. python \n",
    "uses a portion of the memory for internal use and non-object memory. another part of the memory is used for python such as int, dict, list, \n",
    "etc the object alloctor gets a call every time the new object needs space."
   ]
  },
  {
   "cell_type": "code",
   "execution_count": null,
   "id": "cd2d9b0a-bc1a-425b-b940-4c19747e2d07",
   "metadata": {},
   "outputs": [],
   "source": [
    "#14\n",
    "\n",
    "memory management in python involves a private heap containing all python object and data structure. python \n",
    "uses a portion of the memory for internal use and non-object memory. another part of the memory is used for python such as int, dict, list, \n",
    "etc the object alloctor gets a call every time the new object needs space."
   ]
  },
  {
   "cell_type": "code",
   "execution_count": null,
   "id": "9a657300-9570-4f6b-8a13-e25bbf7c4095",
   "metadata": {},
   "outputs": [],
   "source": [
    "#15\n",
    "\n",
    "for downloded we have to go in python official website which is www.python.org. and then go into download section which is \n",
    "https://www.python.org/downloads/ after this download file python-3.11.1-amd64 and install it \n",
    "for path variable \n",
    "    1.Right-clicking This PC and going to Properties.\n",
    "    2.Clicking on the Advanced system settings in the menu on the left.\n",
    "    3.Clicking on the Environment Variables button o​n the bottom right.\n",
    "    4.In the System variables section, selecting the Path variable and clicking on Edit. The next screen will show all the \n",
    "    directories that are currently a part of the PATH variable.\n",
    "    5.Clicking on New and entering Python’s install directory."
   ]
  },
  {
   "cell_type": "code",
   "execution_count": null,
   "id": "bfe08eaa-6b16-494b-8ad5-61834a1972c1",
   "metadata": {},
   "outputs": [],
   "source": [
    "#16\n",
    "\n",
    "Yes, Indentation is important in python beacuse Python uses indentation to indicate the block of code."
   ]
  }
 ],
 "metadata": {
  "kernelspec": {
   "display_name": "Python 3 (ipykernel)",
   "language": "python",
   "name": "python3"
  },
  "language_info": {
   "codemirror_mode": {
    "name": "ipython",
    "version": 3
   },
   "file_extension": ".py",
   "mimetype": "text/x-python",
   "name": "python",
   "nbconvert_exporter": "python",
   "pygments_lexer": "ipython3",
   "version": "3.10.8"
  }
 },
 "nbformat": 4,
 "nbformat_minor": 5
}
