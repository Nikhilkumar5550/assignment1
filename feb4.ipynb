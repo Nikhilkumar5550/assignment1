{
 "cells": [
  {
   "cell_type": "markdown",
   "id": "6c76f6e8-f45f-40ca-a094-3ae85ffcd5d3",
   "metadata": {},
   "source": [
    "Q1.Create a python program to sort the given list of tuples based on integer value using a lambda function.\n",
    "[('Sachin Tendulkar', 34357), ('Ricky Ponting', 27483), ('Jack Kallis', 25534), ('Virat Kohli', 24936)]\n",
    "\n"
   ]
  },
  {
   "cell_type": "code",
   "execution_count": 7,
   "id": "20f7796e-c5ca-441e-905a-b5502fd8969c",
   "metadata": {},
   "outputs": [
    {
     "name": "stdout",
     "output_type": "stream",
     "text": [
      "[('Virat Kohli', 24936), ('Jack Kallis', 25534), ('Ricky Ponting', 27483), ('Sachin Tendulkar', 34357)]\n"
     ]
    }
   ],
   "source": [
    "#program to sort given list of tuples based on integer value\n",
    "l=[('Sachin Tendulkar', 34357), ('Ricky Ponting', 27483), ('Jack Kallis', 25534), ('Virat Kohli', 24936)]\n",
    "l.sort(key=lambda l:l[1])\n",
    "print(l)"
   ]
  },
  {
   "cell_type": "markdown",
   "id": "71e9b3d3-6a3b-4773-8684-02e1a0b35ad8",
   "metadata": {},
   "source": [
    "Q2.Write a Python Program to find the squares of all the numbers in the given list of integers using lambda and map functions. [1, 2, 3, 4, 5, 6, 7, 8, 9, 10]"
   ]
  },
  {
   "cell_type": "code",
   "execution_count": 6,
   "id": "da63cd42-e201-402a-91b1-c7db9f4142b3",
   "metadata": {},
   "outputs": [
    {
     "name": "stdout",
     "output_type": "stream",
     "text": [
      "[1, 4, 9, 16, 25, 36, 49, 64, 81, 100]\n"
     ]
    }
   ],
   "source": [
    "#printing squares of numbers given in the list\n",
    "l1=[1, 2, 3, 4, 5, 6, 7, 8, 9, 10] \n",
    "print(list(map(lambda x:x*x,l1)))"
   ]
  },
  {
   "cell_type": "markdown",
   "id": "dd546da8-0abd-45ea-8133-74e59339a68d",
   "metadata": {},
   "source": [
    "Q3.Write a python program to convert the given list of integers into a tuple of strings. Use map and lambda functions Given String: [1, 2, 3, 4, 5, 6, 7, 8, 9, 10] Expected output: ('1', '2', '3', '4', '5', '6', '7', '8', '9', '10')"
   ]
  },
  {
   "cell_type": "code",
   "execution_count": 8,
   "id": "7b663e6e-dc8f-4c17-a60d-b27c04cd663e",
   "metadata": {},
   "outputs": [
    {
     "name": "stdout",
     "output_type": "stream",
     "text": [
      "('1', '2', '3', '4', '5', '6', '7', '8', '9', '10')\n"
     ]
    }
   ],
   "source": [
    "#program to convert given list integers into tuples of strings\n",
    "l2=[1, 2, 3, 4, 5, 6, 7, 8, 9, 10]\n",
    "print(tuple(map(lambda x:str(x),l2)))"
   ]
  },
  {
   "cell_type": "markdown",
   "id": "84cf5295-17e7-409a-b64b-c5caeaa094f4",
   "metadata": {},
   "source": [
    "Q4.Write a python program using reduce function to compute the product of a list containing numbers from 1 to 25."
   ]
  },
  {
   "cell_type": "code",
   "execution_count": 15,
   "id": "1ca73438-528f-4d1a-bf44-00dd7e3f64c1",
   "metadata": {},
   "outputs": [
    {
     "name": "stdout",
     "output_type": "stream",
     "text": [
      "620448401733239439360000\n"
     ]
    }
   ],
   "source": [
    "#computing the product of a list containing numbers  from 1 to 25\n",
    "import functools\n",
    "numbers = list(range(1,25))\n",
    "def prod(a_list):\n",
    "    return functools.reduce(lambda x,y : x*y ,a_list)\n",
    "print(prod(numbers))"
   ]
  },
  {
   "cell_type": "markdown",
   "id": "dff9450e-0a1e-4729-89bc-2c5dc15040f0",
   "metadata": {},
   "source": [
    "Q5.Write a python program to filter the numbers in a given list that are divisible by 2 and 3 using the filter function. [2, 3, 6, 9, 27, 60, 90, 120, 55, 46]"
   ]
  },
  {
   "cell_type": "code",
   "execution_count": 16,
   "id": "8825e636-422f-4761-a115-bd254c16562c",
   "metadata": {},
   "outputs": [
    {
     "name": "stdout",
     "output_type": "stream",
     "text": [
      "[2, 3, 6, 9, 27, 60, 90, 120, 46]\n"
     ]
    }
   ],
   "source": [
    "#program to filter the numbers in given list which are divisible by 2 & 3  \n",
    "l3= [2,3,6,9,27,60,90,120,55,46]\n",
    "print(list(filter(lambda x : x%2==0 or x%3==0 ,l3)))"
   ]
  },
  {
   "cell_type": "markdown",
   "id": "69ff44da-6c44-4951-913b-8801b80ad30b",
   "metadata": {},
   "source": [
    "Q6.Write a python program to find palindromes in the given list of strings using lambda and filter function.['python', 'php', 'aba', 'radar', 'level']"
   ]
  },
  {
   "cell_type": "code",
   "execution_count": 18,
   "id": "64071597-d841-4054-bfa0-22331a49ac5e",
   "metadata": {},
   "outputs": [
    {
     "name": "stdout",
     "output_type": "stream",
     "text": [
      "['php', 'aba', 'radar', 'level']\n"
     ]
    }
   ],
   "source": [
    "l4=['python', 'php', 'aba', 'radar', 'level'] \n",
    "print(list(filter(lambda x : x==x[::-1] ,l4)))"
   ]
  },
  {
   "cell_type": "code",
   "execution_count": null,
   "id": "2687cdb6-9cfb-4e74-856c-d96b5a2b0c8d",
   "metadata": {},
   "outputs": [],
   "source": []
  },
  {
   "cell_type": "code",
   "execution_count": null,
   "id": "dbd38b92-21f2-47e9-9239-fcb4cf600a55",
   "metadata": {},
   "outputs": [],
   "source": []
  },
  {
   "cell_type": "code",
   "execution_count": null,
   "id": "afd0e1a0-b402-4988-8b3c-6b15009f2c2e",
   "metadata": {},
   "outputs": [],
   "source": []
  },
  {
   "cell_type": "code",
   "execution_count": null,
   "id": "93297233-69ba-4eb0-9510-3200b983c7e9",
   "metadata": {},
   "outputs": [],
   "source": []
  }
 ],
 "metadata": {
  "kernelspec": {
   "display_name": "Python 3 (ipykernel)",
   "language": "python",
   "name": "python3"
  },
  "language_info": {
   "codemirror_mode": {
    "name": "ipython",
    "version": 3
   },
   "file_extension": ".py",
   "mimetype": "text/x-python",
   "name": "python",
   "nbconvert_exporter": "python",
   "pygments_lexer": "ipython3",
   "version": "3.10.8"
  }
 },
 "nbformat": 4,
 "nbformat_minor": 5
}
