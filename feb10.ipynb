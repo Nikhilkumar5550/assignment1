{
 "cells": [
  {
   "cell_type": "markdown",
   "id": "33e8c2b1-a846-48d5-8f4d-ee33f413f3dd",
   "metadata": {},
   "source": [
    "Q1.Which function is used to open a file? What are the different modes of opening a file? Explain each mode of file opening."
   ]
  },
  {
   "cell_type": "markdown",
   "id": "0824c5f2-f7e2-4deb-8ebf-b7d87ccd258d",
   "metadata": {},
   "source": [
    "Answer: Function used to opena file is f = open(filename, mode). Different modes of opening file are r , w , a , r+, w+ & a+\n",
    "\n",
    "r: open an existing file for a read operation.\n",
    "\n",
    "w: open an existing file for a write operation. If the file already contains some data then it will be overridden but if the file is not present then it creates the file as well.\n",
    "\n",
    "a: open an existing file for append operation. It won’t override existing data.\n",
    "\n",
    "r+: To read and write data into the file. The previous data in the file will be overridden.\n",
    "\n",
    "w+: To write and read data. It will override existing data.\n",
    "\n",
    "a+: To append and read data from the file. It won’t override existing data."
   ]
  },
  {
   "cell_type": "markdown",
   "id": "863ad2df-ce01-4cd5-9123-365500b4afb6",
   "metadata": {},
   "source": [
    "Q2.Why close() function is used? Why is it important to close a file?"
   ]
  },
  {
   "cell_type": "markdown",
   "id": "7ba7cced-c7b3-456b-afd2-776ca046f028",
   "metadata": {},
   "source": [
    "Answer: The close() closes an open file. Its important to always close the files, in some cases, due to buffering, changes made to a file may not show until you close the file."
   ]
  },
  {
   "cell_type": "markdown",
   "id": "de62f948-9b51-4b59-a4e2-e2d97f12193f",
   "metadata": {},
   "source": [
    "Q3.Write a python program to create a text file. Write ‘I want to become a Data Scientist’ in that file. Then close the file. Open this file and read the content of the file."
   ]
  },
  {
   "cell_type": "code",
   "execution_count": 1,
   "id": "a8563936-adab-4434-8406-bf448ffe4744",
   "metadata": {},
   "outputs": [],
   "source": [
    "# program to create a text file \n",
    "f = open(\"test.txt\",'a')\n",
    "f.write(\" Data Science masters course\")\n",
    "f.close()\n",
    "\n"
   ]
  },
  {
   "cell_type": "code",
   "execution_count": 2,
   "id": "da986404-e44d-489a-aaa8-92b5ee6ac30c",
   "metadata": {},
   "outputs": [
    {
     "name": "stdout",
     "output_type": "stream",
     "text": [
      " Data Science masters course\n"
     ]
    }
   ],
   "source": [
    "f = open(\"test.txt\", \"r\")\n",
    "print(f.read())"
   ]
  },
  {
   "cell_type": "markdown",
   "id": "7c1dba91-de12-43c4-9069-7439b2dbcf1d",
   "metadata": {},
   "source": [
    "Q4.Explain the following with python code: read(), readline() and readlines()."
   ]
  },
  {
   "cell_type": "markdown",
   "id": "b21c62b4-2dc8-45be-b283-e448b4d95ba0",
   "metadata": {},
   "source": [
    "Answer:The read() method returns the specified number of bytes from the file. Default is -1 which means the whole fill"
   ]
  },
  {
   "cell_type": "code",
   "execution_count": 3,
   "id": "019ed24e-a26f-4bd3-8048-0a009cdabcf5",
   "metadata": {},
   "outputs": [
    {
     "name": "stdout",
     "output_type": "stream",
     "text": [
      " Data Science masters course\n"
     ]
    }
   ],
   "source": [
    "# code for read()\n",
    "f = open(\"test.txt\", \"r\")\n",
    "print(f.read())"
   ]
  },
  {
   "cell_type": "markdown",
   "id": "2e5ef17c-510a-423a-9f0c-f17b92d11718",
   "metadata": {},
   "source": [
    "The readline() method returns one line from the file. You can also specified how many bytes from the line to return, by using the size parameter."
   ]
  },
  {
   "cell_type": "code",
   "execution_count": 4,
   "id": "d627669d-2099-42b1-8f64-2dbbf5825f5a",
   "metadata": {},
   "outputs": [
    {
     "name": "stdout",
     "output_type": "stream",
     "text": [
      " Data Science masters course\n"
     ]
    }
   ],
   "source": [
    "# code for readline\n",
    "f = open(\"test.txt\", \"r\")\n",
    "print(f.readline())"
   ]
  },
  {
   "cell_type": "markdown",
   "id": "724d2a28-ddd0-47e9-9f23-b780b7ccfb22",
   "metadata": {},
   "source": [
    "The readlines() method returns a list containing each line in the file as a list item. Use the hint parameter to limit the number of lines returned. If the total number of bytes returned exceeds the specified number, no more lines are returned."
   ]
  },
  {
   "cell_type": "code",
   "execution_count": 5,
   "id": "a846cb55-b641-4342-9daf-0a2345330973",
   "metadata": {},
   "outputs": [
    {
     "name": "stdout",
     "output_type": "stream",
     "text": [
      "[' Data Science masters course']\n"
     ]
    }
   ],
   "source": [
    "# code for readlines\n",
    "f = open(\"test.txt\", \"r\")\n",
    "print(f.readlines())"
   ]
  },
  {
   "cell_type": "markdown",
   "id": "a423798e-8b84-4f6f-a687-54504bed283b",
   "metadata": {},
   "source": [
    "Q5.Explain why with statement is used with open(). What is the advantage of using with statement and open() together?"
   ]
  },
  {
   "cell_type": "markdown",
   "id": "38e9429f-2975-4858-9b90-4ca13b0aa78e",
   "metadata": {},
   "source": [
    "Answer: Using with means that the file will be closed as soon as you leave the block. This is beneficial because closing a file is something that can easily be forgotten and ties up resources that you no longer need.\n",
    "Advantages: with statement is used with open() in exception handling to make the code cleaner and much more readable. It simplifies the management of common resources like file streams."
   ]
  },
  {
   "cell_type": "markdown",
   "id": "f6743509-6530-46e6-b046-346cd4f875d1",
   "metadata": {},
   "source": [
    "Q6.Explain the write() and writelines() functions. Give a suitable example."
   ]
  },
  {
   "cell_type": "markdown",
   "id": "fe07c3bf-3f40-4e87-bea7-5ddf43ee2860",
   "metadata": {},
   "source": [
    "Answer: write() = The write() method writes a specified text to the file."
   ]
  },
  {
   "cell_type": "code",
   "execution_count": null,
   "id": "43224207-3d44-49b8-a6d8-dc24b607c852",
   "metadata": {},
   "outputs": [],
   "source": [
    "# code for write\n",
    "f = open(\"test.txt\", \"a\")\n",
    "f.write(\"hyy nikhil how r u\")\n",
    "f.close()"
   ]
  },
  {
   "cell_type": "markdown",
   "id": "da128752-a834-436a-adc4-d5df294e8a07",
   "metadata": {},
   "source": [
    "writelines() = The writelines() method writes the items of a list to the file."
   ]
  },
  {
   "cell_type": "code",
   "execution_count": 7,
   "id": "6d5b27d1-26b0-46f3-8efc-7844c29f19f2",
   "metadata": {},
   "outputs": [],
   "source": [
    "# code for writeliness \n",
    "f = open(\"test.txt\", \"a\")\n",
    "f.writelines([\"See you soon!\", \"Over and out.\"])\n",
    "f.close()"
   ]
  },
  {
   "cell_type": "code",
   "execution_count": 8,
   "id": "3191192a-ea30-4e29-ba1e-4719abb56592",
   "metadata": {},
   "outputs": [
    {
     "name": "stdout",
     "output_type": "stream",
     "text": [
      " Data Science masters courseSee you soon!Over and out.\n"
     ]
    }
   ],
   "source": [
    "#open and read the file after the appending:\n",
    "f = open(\"test.txt\", \"r\")\n",
    "print(f.read())"
   ]
  },
  {
   "cell_type": "code",
   "execution_count": null,
   "id": "6a45170a-6361-41c6-bcd4-40850c3d7e5b",
   "metadata": {},
   "outputs": [],
   "source": []
  },
  {
   "cell_type": "code",
   "execution_count": null,
   "id": "ec75ea8a-c9d9-4b0f-ad82-251652183a4a",
   "metadata": {},
   "outputs": [],
   "source": []
  },
  {
   "cell_type": "code",
   "execution_count": null,
   "id": "aad59d26-a5af-4749-9a0f-2d3fca10d143",
   "metadata": {},
   "outputs": [],
   "source": []
  },
  {
   "cell_type": "code",
   "execution_count": null,
   "id": "7adce131-47c7-41ee-b0d1-7765021bfe41",
   "metadata": {},
   "outputs": [],
   "source": []
  },
  {
   "cell_type": "code",
   "execution_count": null,
   "id": "58513a28-5e2b-464a-b9de-9b7708076223",
   "metadata": {},
   "outputs": [],
   "source": []
  }
 ],
 "metadata": {
  "kernelspec": {
   "display_name": "Python 3 (ipykernel)",
   "language": "python",
   "name": "python3"
  },
  "language_info": {
   "codemirror_mode": {
    "name": "ipython",
    "version": 3
   },
   "file_extension": ".py",
   "mimetype": "text/x-python",
   "name": "python",
   "nbconvert_exporter": "python",
   "pygments_lexer": "ipython3",
   "version": "3.10.8"
  }
 },
 "nbformat": 4,
 "nbformat_minor": 5
}
