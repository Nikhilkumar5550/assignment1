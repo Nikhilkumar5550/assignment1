{
 "cells": [
  {
   "cell_type": "markdown",
   "id": "3258a19a-5321-442e-8e2a-826f243b9716",
   "metadata": {},
   "source": [
    "Q1.Create a vehicle class with an init method having instance variables as name_of_vehicle, max_speed and average_of_vehicle."
   ]
  },
  {
   "cell_type": "code",
   "execution_count": 1,
   "id": "1ba08341-8ece-4189-a028-f28d9e6bf2e8",
   "metadata": {},
   "outputs": [
    {
     "name": "stdout",
     "output_type": "stream",
     "text": [
      "tata\n",
      "100\n",
      "20\n"
     ]
    }
   ],
   "source": [
    "class vehicle:\n",
    "    def __init__(self,name_of_vehicle,max_speed,average_of_vehicle):\n",
    "\n",
    "        self.name_of_vehicle = name_of_vehicle\n",
    "        self.max_speed = max_speed\n",
    "        self.average_of_vehicle = average_of_vehicle\n",
    "\n",
    "    def return_vehicle_details(self):\n",
    "        return self.name_of_vehicle,self.max_speed,self.average_of_vehicle\n",
    "\n",
    "toyota = vehicle('tata',100,20)\n",
    "print(toyota.name_of_vehicle)\n",
    "print(toyota.max_speed)\n",
    "print(toyota.average_of_vehicle)"
   ]
  },
  {
   "cell_type": "markdown",
   "id": "6963af2d-c1c7-4686-8143-ae7e39d29527",
   "metadata": {},
   "source": [
    "Q2.Create a child class car from the vehicle class created in Que 1, which will inherit the vehicle class. Create a method named seating_capacity which takes capacity as an argument and returns the name of the vehicle and its seating capacity."
   ]
  },
  {
   "cell_type": "code",
   "execution_count": 2,
   "id": "16852dd5-4307-4d8f-b7fb-0258b6fff64d",
   "metadata": {},
   "outputs": [
    {
     "name": "stdout",
     "output_type": "stream",
     "text": [
      "('tata', 4)\n"
     ]
    }
   ],
   "source": [
    "# inerit vehicle class\n",
    "class capacity_vehicle(vehicle):\n",
    "    def seating_capacity(self,capacity):\n",
    "        return self.name_of_vehicle ,capacity\n",
    "\n",
    "#will display the seating the capacity and name of vehicle\n",
    "obj_capacity_vehicle=capacity_vehicle('tata',100,20)\n",
    "print(obj_capacity_vehicle.seating_capacity(4))"
   ]
  },
  {
   "cell_type": "markdown",
   "id": "a63b9073-7dcd-478a-b90b-f8792c8992da",
   "metadata": {},
   "source": [
    "Q3.What is multiple inheritance? Write a python code to demonstrate multiple inheritance.\n",
    "\n",
    "Answer: Multiple Inheritance - When a class is derived from more than one base class it is called multiple Inheritance. The derived class inherits all the features of the base case."
   ]
  },
  {
   "cell_type": "code",
   "execution_count": 3,
   "id": "b9775ae5-8bfa-4049-82fb-b2edee90a934",
   "metadata": {},
   "outputs": [
    {
     "name": "stdout",
     "output_type": "stream",
     "text": [
      "In Class4\n",
      "In Class2\n",
      "In Class3\n",
      "In Class1\n"
     ]
    }
   ],
   "source": [
    "#example of multiple inheritanceclass Class1:\n",
    "class Class1:\n",
    "    def m(self):\n",
    "        print(\"In Class1\")\n",
    "       \n",
    "class Class2(Class1):\n",
    "    def m(self):\n",
    "        print(\"In Class2\")\n",
    " \n",
    "class Class3(Class1):\n",
    "    def m(self):\n",
    "         print(\"In Class3\")    \n",
    "     \n",
    "class Class4(Class2, Class3):\n",
    "    def m(self):\n",
    "        print(\"In Class4\")  \n",
    " \n",
    "obj = Class4()\n",
    "obj.m()\n",
    " \n",
    "Class2.m(obj)\n",
    "Class3.m(obj)\n",
    "Class1.m(obj)"
   ]
  },
  {
   "cell_type": "markdown",
   "id": "c35eea31-20de-4d3e-9a17-6b7075412fb6",
   "metadata": {},
   "source": [
    "Q4.What are getter and setter in python? Create a class and create a getter and a setter method in this class.\n",
    "\n",
    "Answer: Getter & setters to add validation logic around getting and setting a value.To avoid direct access of a class field i.e. private variables cannot be accessed directly or modified by external user."
   ]
  },
  {
   "cell_type": "code",
   "execution_count": 4,
   "id": "2caf0ef0-2db4-4064-873f-2569210f3802",
   "metadata": {},
   "outputs": [
    {
     "name": "stdout",
     "output_type": "stream",
     "text": [
      "23\n",
      "23\n"
     ]
    }
   ],
   "source": [
    "# Example of getter and setter\n",
    "class pwskills:\n",
    "    def __init__(self, age = 0):\n",
    "         self._age = age\n",
    "      \n",
    "    # getter method\n",
    "    def get_age(self):\n",
    "        return self._age\n",
    "      \n",
    "    # setter method\n",
    "    def set_age(self, x):\n",
    "        self._age = x\n",
    "  \n",
    "sohan = pwskills()\n",
    "  \n",
    "# setting the age using setter\n",
    "sohan.set_age(23)\n",
    "  \n",
    "# retrieving age using getter\n",
    "print(sohan.get_age())\n",
    "  \n",
    "print(sohan._age)"
   ]
  },
  {
   "cell_type": "markdown",
   "id": "c7ae6285-9725-4464-abd3-6b5ade1e8cf4",
   "metadata": {},
   "source": [
    "Q5.What is method overriding in python? Write a python code to demonstrate method overriding.\n",
    "\n",
    "Answer: Method overriding is an ability of any object-oriented programming language that allows a subclass or child class to provide a specific implementation of a method that is already provided by one of its super-classes or parent classes."
   ]
  },
  {
   "cell_type": "code",
   "execution_count": 5,
   "id": "2c355494-b246-4e43-898b-e5cb9eec4520",
   "metadata": {},
   "outputs": [
    {
     "name": "stdout",
     "output_type": "stream",
     "text": [
      "Parent class\n",
      "Child class\n"
     ]
    }
   ],
   "source": [
    "# Example of overriding \n",
    "class Parent():\n",
    "   \n",
    "    def __init__(self):\n",
    "        self.value = \"Parent class\"\n",
    "    \n",
    "    def show(self):\n",
    "        print(self.value)\n",
    " \n",
    "class Child(Parent):\n",
    "    \n",
    "    def __init__(self):\n",
    "        self.value = \"Child class\"\n",
    "   \n",
    "    def show(self):\n",
    "        print(self.value)\n",
    " \n",
    "obj1 = Parent()\n",
    "obj2 = Child()\n",
    "  \n",
    "obj1.show()\n",
    "obj2.show()"
   ]
  },
  {
   "cell_type": "code",
   "execution_count": null,
   "id": "0b9e30a9-32d6-4004-9477-578df9399503",
   "metadata": {},
   "outputs": [],
   "source": []
  },
  {
   "cell_type": "code",
   "execution_count": null,
   "id": "938fbafa-1d43-4750-a22f-d3a84584520e",
   "metadata": {},
   "outputs": [],
   "source": []
  }
 ],
 "metadata": {
  "kernelspec": {
   "display_name": "Python 3 (ipykernel)",
   "language": "python",
   "name": "python3"
  },
  "language_info": {
   "codemirror_mode": {
    "name": "ipython",
    "version": 3
   },
   "file_extension": ".py",
   "mimetype": "text/x-python",
   "name": "python",
   "nbconvert_exporter": "python",
   "pygments_lexer": "ipython3",
   "version": "3.10.8"
  }
 },
 "nbformat": 4,
 "nbformat_minor": 5
}
