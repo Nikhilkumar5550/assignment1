{
 "cells": [
  {
   "cell_type": "markdown",
   "id": "57aafcdc-4b9a-423a-900c-1a4a673eab34",
   "metadata": {},
   "source": [
    "Q1. Create a function which will take a list as an argument and return the product of all the numbers after creating a flat list.\n",
    "Use the below-given list as an argument for your function. list1 = [1,2,3,4, [44,55,66, True], False, (34,56,78,89,34), {1,2,3,3,2,1}, {1:34, \"key2\": [55, 67, 78, 89], 4: (45, 22, 61, 34)}, [56, 'data science'], 'Machine Learning'] Note: you must extract numeric keys and values of the dictionary also."
   ]
  },
  {
   "cell_type": "code",
   "execution_count": 1,
   "id": "1745f111-b70c-4025-ad75-5b27c9471bb8",
   "metadata": {},
   "outputs": [
    {
     "name": "stdout",
     "output_type": "stream",
     "text": [
      "2315262738624675840\n"
     ]
    }
   ],
   "source": [
    "list1 = [1,2,3,4, [44,55,66, True], False, (34,56,78,89,34), {1,2,3,3,2,1}, {1:34, \"key2\": [55, 67, 78, 89], 4: (45,  22, 61, 34)}, [56, 'data science'], 'Machine Learning'] \n",
    "\n",
    "def prod_nums(lst):\n",
    "    flat_list = []\n",
    "    def flatten(lst):\n",
    "        for item in lst:\n",
    "            if type(item) == list or type(item) == tuple or type(item) == set or type(item) == dict:\n",
    "                flatten(item)\n",
    "            elif type(item) == int or type(item) == float:\n",
    "                flat_list.append(item)\n",
    "    flatten(lst)\n",
    "    product = 1\n",
    "    for num in flat_list:\n",
    "        product *= num\n",
    "    return product\n",
    "\n",
    "list1 = [1,2,3,4, [44,55,66, True], False, (34,56,78,89,34), {1,2,3,3,2,1}, {1:34, \"key2\": [55, 67, 78, 89], 4: (45, 22, 61, 34)}, [56, 'data science'], 'Machine Learning']\n",
    "print(prod_nums(list1))"
   ]
  },
  {
   "cell_type": "markdown",
   "id": "f07dbfc5-9c33-41a5-b49d-ca86ab70c02f",
   "metadata": {},
   "source": [
    "Q2. Write a python program for encrypting a message sent to you by your friend. The logic of encryption should be such that, for a the output should be z. For b, the output should be y. For c, the output should be x respectively. Also, the whitespace should be replaced with a dollar sign. Keep the punctuation marks unchanged.\n",
    "\n",
    "\n",
    "Input Sentence: I want to become a Data Scientist. Encrypt the above input sentence using the program you just created. Note: Convert the given input sentence into lowercase before encrypting. The final output should be lowercase."
   ]
  },
  {
   "cell_type": "code",
   "execution_count": 6,
   "id": "d6cb212f-7e7f-4d57-8764-f954e2a01655",
   "metadata": {},
   "outputs": [
    {
     "name": "stdin",
     "output_type": "stream",
     "text": [
      "write you sentence :  nikhilreddy\n"
     ]
    }
   ],
   "source": [
    "#encrypting a input sentence\n",
    "word=list(' '.join('abcdefghijklmnopqrstuvwxyz').split())\n",
    "string=input('write you sentence : ')\n",
    "encryption=list(' '.join(string.replace(' ','$').lower()).split(' '))"
   ]
  },
  {
   "cell_type": "code",
   "execution_count": 7,
   "id": "0bbc508f-4071-4e7d-b75d-7347a88c395a",
   "metadata": {},
   "outputs": [
    {
     "data": {
      "text/plain": [
       "'mrpsroivwwb'"
      ]
     },
     "execution_count": 7,
     "metadata": {},
     "output_type": "execute_result"
    }
   ],
   "source": [
    "lst=[]\n",
    "for i in encryption:\n",
    "    if i=='$':\n",
    "        lst.extend(i)\n",
    "        continue\n",
    "    p=word.index(i) \n",
    "    lst.extend(word[-p-1])\n",
    "encryption_result=''.join(lst)\n",
    "encryption_result"
   ]
  },
  {
   "cell_type": "code",
   "execution_count": null,
   "id": "c55e2cb3-cd91-43de-9382-1b37b885d634",
   "metadata": {},
   "outputs": [],
   "source": []
  },
  {
   "cell_type": "code",
   "execution_count": null,
   "id": "9519be7f-2fbd-42ae-8b66-b106afac1fb3",
   "metadata": {},
   "outputs": [],
   "source": []
  },
  {
   "cell_type": "code",
   "execution_count": null,
   "id": "87992239-c677-4cb0-bf2f-0280c71dc344",
   "metadata": {},
   "outputs": [],
   "source": []
  }
 ],
 "metadata": {
  "kernelspec": {
   "display_name": "Python 3 (ipykernel)",
   "language": "python",
   "name": "python3"
  },
  "language_info": {
   "codemirror_mode": {
    "name": "ipython",
    "version": 3
   },
   "file_extension": ".py",
   "mimetype": "text/x-python",
   "name": "python",
   "nbconvert_exporter": "python",
   "pygments_lexer": "ipython3",
   "version": "3.10.8"
  }
 },
 "nbformat": 4,
 "nbformat_minor": 5
}
