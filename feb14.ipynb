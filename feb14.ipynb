{
 "cells": [
  {
   "cell_type": "markdown",
   "id": "06f7ad1c-da18-4554-86e2-964639b2a9e1",
   "metadata": {},
   "source": [
    "Q1.What is multithreading in python? Why is it used? Name the module used to handle threads in python"
   ]
  },
  {
   "cell_type": "markdown",
   "id": "d0d0c926-41b6-420a-a201-e35546f339cc",
   "metadata": {},
   "source": [
    "Answer: Multithreading is a threading technique in Python programming to run multiple threads concurrently by rapidly switching between threads with a CPU help (called context switching).\n",
    "We use multithreading in Python enables CPUs to run different parts(threads) of a process concurrently to maximize CPU utilization. Multithreading enables CPUs to run different parts(threads) of a process concurrently\n",
    "The Threading Module is used to handle threads in python."
   ]
  },
  {
   "cell_type": "markdown",
   "id": "b16fe39e-bebc-4625-9906-c096692e9a9b",
   "metadata": {},
   "source": [
    "Q2.Why threading module used? Write the use of the following functions:activeCount() currentThread() enumerate()"
   ]
  },
  {
   "cell_type": "markdown",
   "id": "cc49eab8-08f8-49d9-ad27-70f58bdd01b4",
   "metadata": {},
   "source": [
    "Answer:The threading module exposes all the methods of the thread module and provides some additional methods.\n",
    "\n",
    "threading.activeCount() − Returns the number of thread objects that are active.\n",
    "\n",
    "threading.currentThread() − Returns the number of thread objects in the caller's thread control.\n",
    "\n",
    "threading.enumerate() − Returns a list of all thread objects that are currently active."
   ]
  },
  {
   "cell_type": "markdown",
   "id": "ecace80a-e7d6-49bf-be03-72a70fd53cf3",
   "metadata": {},
   "source": [
    "Q3. Explain the following functions: run(),start(),join(),isAlive()"
   ]
  },
  {
   "cell_type": "markdown",
   "id": "f8663b04-5677-4bde-80ca-5caa1b7526a7",
   "metadata": {},
   "source": [
    "Answer:\n",
    "    \n",
    "run() − The run() method is the entry point for a thread.\n",
    "\n",
    "start() − The start() method starts a thread by calling the run method.\n",
    "\n",
    "join([time]) − The join() waits for threads to terminate.\n",
    "\n",
    "isAlive() − The isAlive() method checks whether a thread is still executing."
   ]
  },
  {
   "cell_type": "markdown",
   "id": "3c696a84-fd15-4779-b817-6927e87bb99f",
   "metadata": {},
   "source": [
    "Q4.Write a python program to create two threads.Thread one must print the list of squares and thread two must print the list of cubes"
   ]
  },
  {
   "cell_type": "code",
   "execution_count": 1,
   "id": "e6ad187d-dcb5-44cd-acba-3772992cfe6a",
   "metadata": {},
   "outputs": [
    {
     "name": "stdout",
     "output_type": "stream",
     "text": [
      "[1, 4, 9, 16, 25, 36, 49, 64, 81, 100]\n",
      "[1, 8, 27, 64, 125, 216, 343, 512, 729, 1000]\n",
      "Finished!\n"
     ]
    }
   ],
   "source": [
    "import threading\n",
    "import time \n",
    "\n",
    "l1=[1,2,3,4,5,6,7,8,9,10]\n",
    "\n",
    "def print_square(n):\n",
    "    time.sleep(1)\n",
    "    sq=[]\n",
    "    for i in n:\n",
    "        sq.append(i*i)\n",
    "    print(sq)\n",
    "\n",
    "def print_cubes(n):\n",
    "    time.sleep(1)\n",
    "    cu=[]\n",
    "    for i in n:\n",
    "        cu.append(i*i*i)\n",
    "    print(cu)\n",
    "data1=threading.Thread(target=print_square,args=(l1,))\n",
    "data2=threading.Thread(target=print_cubes,args=(l1,))\n",
    "\n",
    "data1.start()\n",
    "data2.start()\n",
    "\n",
    "data1.join()\n",
    "data2.join()\n",
    "\n",
    "print(\"Finished!\")"
   ]
  },
  {
   "cell_type": "markdown",
   "id": "5429c56a-f223-4ac8-b9b0-473494820f9d",
   "metadata": {},
   "source": [
    "Q5.State advantages and disadvantages of multithreading"
   ]
  },
  {
   "cell_type": "markdown",
   "id": "91e35a80-a248-4e83-9477-f23b8f989550",
   "metadata": {},
   "source": [
    "Answer:Multithreading advantages:\n",
    "    \n",
    "1)Improved performance and concurrency\n",
    "\n",
    "2)Simplified coding of remote procedure calls and conversations\n",
    "\n",
    "3)Simultaneous access to multiple applications\n",
    "\n",
    "4)Reduced number of required servers\n",
    "\n",
    "Multithreading disadvantages:\n",
    "    \n",
    "1)Difficulty of writing code\n",
    "\n",
    "2)Difficulty of debugging\n",
    "\n",
    "3)Difficulty of managing concurrency\n",
    "\n",
    "4)Difficulty of testing\n",
    "\n",
    "5)Difficulty of porting existing code"
   ]
  },
  {
   "cell_type": "markdown",
   "id": "0fbfde8e-be77-4a87-8224-02c40375ca15",
   "metadata": {},
   "source": [
    "Q6.Explain deadlocks and race conditions"
   ]
  },
  {
   "cell_type": "markdown",
   "id": "aa07c36c-08ec-45bb-8388-4a1dc8bed4ec",
   "metadata": {},
   "source": [
    "Answer:\n",
    "    \n",
    "deadlock :- A deadlock is when two (or more) threads are blocking each other. Usually this has something to do with threads trying to acquire shared resources. For example if threads T1 and T2 need to acquire both resources A and B in order to do their work. If T1 acquires resource A, then T2 acquires resource B, T1 could then be waiting for resource B while T2 was waiting for resource A. In this case, both threads will wait indefinitely for the resource held by the other thread. These threads are said to be deadlocked.\n",
    "\n",
    "Race conditions :-\n",
    "\n",
    "Race conditions occur when two threads interact in a negatve (buggy) way depending on the exact order that their different instructions are executed. If one thread sets a global variable, for example, then a second thread reads and modifies that global variable, and the first thread reads the variable, the first thread may experience a bug because the variable has changed unexpectedly."
   ]
  },
  {
   "cell_type": "code",
   "execution_count": null,
   "id": "38cb2d45-8eb1-4e77-bd5e-4558d6415a79",
   "metadata": {},
   "outputs": [],
   "source": []
  },
  {
   "cell_type": "code",
   "execution_count": null,
   "id": "06052f37-985e-42c9-8b80-0e59964cdf97",
   "metadata": {},
   "outputs": [],
   "source": []
  },
  {
   "cell_type": "code",
   "execution_count": null,
   "id": "55d0ed90-4842-42b9-9e44-4ae8ee226999",
   "metadata": {},
   "outputs": [],
   "source": []
  }
 ],
 "metadata": {
  "kernelspec": {
   "display_name": "Python 3 (ipykernel)",
   "language": "python",
   "name": "python3"
  },
  "language_info": {
   "codemirror_mode": {
    "name": "ipython",
    "version": 3
   },
   "file_extension": ".py",
   "mimetype": "text/x-python",
   "name": "python",
   "nbconvert_exporter": "python",
   "pygments_lexer": "ipython3",
   "version": "3.10.8"
  }
 },
 "nbformat": 4,
 "nbformat_minor": 5
}
