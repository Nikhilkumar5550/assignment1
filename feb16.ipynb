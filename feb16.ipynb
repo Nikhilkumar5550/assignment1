{
 "cells": [
  {
   "cell_type": "markdown",
   "id": "ec8859c1-304e-495f-beb9-345d9f214a4c",
   "metadata": {},
   "source": [
    "Q1.What is a database? Differentiate between SQL and NoSQL databases."
   ]
  },
  {
   "cell_type": "markdown",
   "id": "5c03372b-222a-40e7-9f49-ab49b9b092c3",
   "metadata": {},
   "source": [
    "Answer: A database is an organized collection of structured information, or data, typically stored electronically in a computer system. A database is usually controlled by a database management system (DBMS)\n",
    "\n",
    "Difference between SQL & NoSQL\n",
    "\n",
    "SQL\n",
    "\n",
    "1)RELATIONAL DATABASE MANAGEMENT SYSTEM (RDBMS)\n",
    "\n",
    "2)These databases have fixed or static or predefined schema\n",
    "\n",
    "3)These databases are not suited for hierarchical data storage.\n",
    "\n",
    "4)These databases are best suited for complex queries\n",
    "\n",
    "NoSQL\n",
    "\n",
    "1)Non-relational or distributed database system.\n",
    "\n",
    "2)They have dynamic schema\n",
    "\n",
    "3)These databases are best suited for hierarchical data storage.\n",
    "\n",
    "4)These databases are not so good for complex queries"
   ]
  },
  {
   "cell_type": "markdown",
   "id": "5d3004f7-1159-48d3-a972-370f08efdf44",
   "metadata": {},
   "source": [
    "Q2.What is DDL? Explain why CREATE, DROP, ALTER, and TRUNCATE are used with an example."
   ]
  },
  {
   "cell_type": "markdown",
   "id": "a6d56696-4c54-4264-b921-620bf7b2caec",
   "metadata": {},
   "source": [
    "Answer: Data Definition Language (DDL) is a subset of SQL. It is a language for describing data and its relationships in a database. CREATE,DROP ,ALTER AND TRUNCATE are used to create table as well they used to manipulate table in database\n",
    "\n",
    "1) CREATE : the CREATE TABLE statement is used to create a new table in a database."
   ]
  },
  {
   "cell_type": "code",
   "execution_count": null,
   "id": "674c3485-2b8d-4377-a007-003c15125295",
   "metadata": {},
   "outputs": [],
   "source": [
    "# example of create :\n",
    "CREATE TABLE Persons (PersonID int,LastName varchar(255),FirstName varchar(255),Address varchar(255),City varchar(255));"
   ]
  },
  {
   "cell_type": "markdown",
   "id": "d9bb9eeb-6ce5-4531-bf22-1f7364b4bee4",
   "metadata": {},
   "source": [
    "2) DROP : DROP is a DDL(Data Definition Language) command and is used to remove table definition and indexes, data, constraints, triggers etc for that table"
   ]
  },
  {
   "cell_type": "code",
   "execution_count": null,
   "id": "4841447c-8c52-4049-963c-afcbc8b76728",
   "metadata": {},
   "outputs": [],
   "source": [
    "#example of drop: \n",
    "DROP TABLE gps_fkey;"
   ]
  },
  {
   "cell_type": "markdown",
   "id": "fab6f795-f852-4d3c-bce1-33cf991e1b19",
   "metadata": {},
   "source": [
    "3) ALTER: The ALTER TABLE statement is used to add, delete, or modify columns in an existing table.\n",
    "\n",
    "The ALTER TABLE statement is also used to add and drop various constraints on an existing table."
   ]
  },
  {
   "cell_type": "code",
   "execution_count": null,
   "id": "a6e415e2-bde8-4a6a-bb41-796f7de74687",
   "metadata": {},
   "outputs": [],
   "source": [
    "# example of alter:\n",
    "ALTER TABLE Customers ADD Email varchar(255);"
   ]
  },
  {
   "cell_type": "markdown",
   "id": "900ccc41-f684-45ff-b250-27c1b2b14b5f",
   "metadata": {},
   "source": [
    "4) Truncate: TRUNCATE is a DDL(Data Definition Language) command. It is used to delete all the tuples from the table. Like the DROP command, the TRUNCATE command also does not contain a WHERE clause."
   ]
  },
  {
   "cell_type": "code",
   "execution_count": null,
   "id": "ad3b46a5-4ee4-46e6-92e5-5a015f18ae73",
   "metadata": {},
   "outputs": [],
   "source": [
    "# example of Truncate: \n",
    "TRUNCATE TABLE gps_fkey; "
   ]
  },
  {
   "cell_type": "markdown",
   "id": "1244a693-7c16-4842-9d27-0feb19a64fdf",
   "metadata": {},
   "source": [
    "Q3.What is DML? Explain INSERT, UPDATE, and DELETE with an example."
   ]
  },
  {
   "cell_type": "markdown",
   "id": "c25e5b40-d57d-4312-b444-eb6d91811aae",
   "metadata": {},
   "source": [
    "Answer: A DML (data manipulation language) refers to a computer programming language that allows you to add (insert), delete (delete), and alter (update) data in a database.\n",
    "\n",
    "1)INSERT: The INSERT INTO statement is used to insert new records in a table."
   ]
  },
  {
   "cell_type": "code",
   "execution_count": null,
   "id": "7ee62e1c-57bd-4349-a590-7aa6330041f2",
   "metadata": {},
   "outputs": [],
   "source": [
    "# example of insert: \n",
    "INSERT INTO Customers (CustomerName, ContactName, Address, City, PostalCode, Country) \n",
    "VALUES ('Cardinal', 'Tom B. Erichsen', 'Skagen 21', 'Stavanger', '4006', 'Norway');"
   ]
  },
  {
   "cell_type": "markdown",
   "id": "18d8e247-e75f-42d2-91fc-ea66f6462206",
   "metadata": {},
   "source": [
    "2)UPDATE: The UPDATE statement is used to modify the existing records in a table."
   ]
  },
  {
   "cell_type": "code",
   "execution_count": null,
   "id": "abb5b787-df9e-4978-b980-49549b004774",
   "metadata": {},
   "outputs": [],
   "source": [
    "# example of update:\n",
    "UPDATE Customers\n",
    "SET ContactName = 'Alfred Schmidt', City= 'Frankfurt'\n",
    "WHERE CustomerID = 1;"
   ]
  },
  {
   "cell_type": "markdown",
   "id": "0047934b-f8f1-41dd-a849-5490032d5c54",
   "metadata": {},
   "source": [
    "3)DELETE : The DELETE statement is used to delete existing records in a table."
   ]
  },
  {
   "cell_type": "code",
   "execution_count": null,
   "id": "1c92ef94-86df-4abe-bf2b-c21a747fb0ad",
   "metadata": {},
   "outputs": [],
   "source": [
    "# example of delete:\n",
    "DELETE FROM gps_name WHERE CustomerID=3;"
   ]
  },
  {
   "cell_type": "markdown",
   "id": "e9a7ad1a-d07d-4cf1-a68f-2b6bae390285",
   "metadata": {},
   "source": [
    "Q4.What is DQL? Explain SELECT with an example."
   ]
  },
  {
   "cell_type": "markdown",
   "id": "15f5f071-2d65-40dd-aa9e-0fb82363328f",
   "metadata": {},
   "source": [
    "Answer: The full form of DQL is Data Query Language. DQL is a part of the grouping involved in SQL (Structures Query Language) sub-languages.\n",
    "\n",
    "The SELECT command is used to select data from a database. The data returned is stored in a result table, called the result set."
   ]
  },
  {
   "cell_type": "code",
   "execution_count": null,
   "id": "16bfbcfa-480f-41ac-b6b2-05774ee67e44",
   "metadata": {},
   "outputs": [],
   "source": [
    "# example of SELECT with example\n",
    "SELELCT * FROM GPS_NAME;"
   ]
  },
  {
   "cell_type": "markdown",
   "id": "18464bde-b7bf-4136-9979-0d9cf579b73f",
   "metadata": {},
   "source": [
    "Q5.Explain Primary Key and Foreign Key."
   ]
  },
  {
   "cell_type": "markdown",
   "id": "0823f873-264e-4286-854f-e710127a84ee",
   "metadata": {},
   "source": [
    "PRIMARY KEY: The PRIMARY KEY constraint uniquely identifies each record in a table.A table can have only one primary key, which may consist of one single or of multiple fields.\n",
    "\n",
    "FOREIGN KEY: The FOREIGN KEY constraint is a key used to link two tables together.A FOREIGN KEY is a field (or collection of fields) in one table that refers to the PRIMARY KEY in another table."
   ]
  },
  {
   "cell_type": "markdown",
   "id": "b806ffc3-f47a-4e05-857d-31a114c2b8a9",
   "metadata": {},
   "source": [
    "Q6.Write a python code to connect MySQL to python. Explain the cursor() and execute() method."
   ]
  },
  {
   "cell_type": "code",
   "execution_count": null,
   "id": "a0a78bc2-3323-4b38-81d0-1db8b5410926",
   "metadata": {},
   "outputs": [],
   "source": [
    "# python code to connect to MySql \n",
    "import mysql.connector\n",
    "# import mysql.connector\n",
    "mydb = mysql.connector.connect(\n",
    "  host=\"localhost\",\n",
    "  user=\"abc\",\n",
    "  password=\"password\"\n",
    ")\n",
    "print(mydb)\n",
    "mycursor = mydb.cursor()\n",
    "mycursor.execute(\"SHOW DATABASES\")\n",
    "for x in mycursor:\n",
    "     print(x)"
   ]
  },
  {
   "cell_type": "markdown",
   "id": "6b437ff9-6b0b-4822-a023-29266fca16a8",
   "metadata": {},
   "source": [
    "Cursor() : A cursor keeps track of the position in the result set, and allows you to perform multiple operations row by row against a result set, with or without returning to the original table. In other words, cursors conceptually return a result set based on tables within the databases\n",
    "\n",
    "execute() : The Execute method executes a specified query, SQL statement, stored procedure, or provider-specific text. The results are stored in a new Recordset object if it is a row-returning query. A closed Recordset object will be returned if it is not a row-returning query."
   ]
  },
  {
   "cell_type": "markdown",
   "id": "eea7c0d3-36b7-4e3f-84e3-d2a19898819b",
   "metadata": {},
   "source": [
    "Q7. Give the order of execution of SQL clauses in an SQL query."
   ]
  },
  {
   "cell_type": "markdown",
   "id": "ce3d7f69-cb54-4e6a-8598-4480f0a12af7",
   "metadata": {},
   "source": [
    "Answer: The order in which the clauses in queries are executed is as follows:\n",
    "    \n",
    "1. FROM/JOIN: The FROM and/or JOIN clauses are executed first to determine the data of interest.\n",
    "\n",
    "2. WHERE: The WHERE clause is executed to filter out records that do not meet the constraints.\n",
    "\n",
    "3. GROUP BY: The GROUP BY clause is executed to group the data based on the values in one or more columns.\n",
    "\n",
    "4. HAVING: The HAVING clause is executed to remove the created grouped records that don’t meet the constraints.\n",
    "\n",
    "5. SELECT: The SELECT clause is executed to derive all desired columns and expressions.\n",
    "\n",
    "6. ORDER BY: The ORDER BY clause is executed to sort the derived values in ascending or descending order.\n",
    "\n",
    "7. LIMIT/OFFSET: Finally, the LIMIT and/or OFFSET clauses are executed to keep or skip a specified number of rows."
   ]
  },
  {
   "cell_type": "code",
   "execution_count": null,
   "id": "f79870a1-17e8-4fa0-b31e-f2c472d569a0",
   "metadata": {},
   "outputs": [],
   "source": []
  },
  {
   "cell_type": "code",
   "execution_count": null,
   "id": "2db7cbab-74a0-44f7-9b1f-1987676b53b8",
   "metadata": {},
   "outputs": [],
   "source": []
  },
  {
   "cell_type": "code",
   "execution_count": null,
   "id": "1da51e44-e787-463c-a687-f6f035934e24",
   "metadata": {},
   "outputs": [],
   "source": []
  },
  {
   "cell_type": "code",
   "execution_count": null,
   "id": "c39e8e38-8730-46ce-bb0a-bff6376b32c1",
   "metadata": {},
   "outputs": [],
   "source": []
  }
 ],
 "metadata": {
  "kernelspec": {
   "display_name": "Python 3 (ipykernel)",
   "language": "python",
   "name": "python3"
  },
  "language_info": {
   "codemirror_mode": {
    "name": "ipython",
    "version": 3
   },
   "file_extension": ".py",
   "mimetype": "text/x-python",
   "name": "python",
   "nbconvert_exporter": "python",
   "pygments_lexer": "ipython3",
   "version": "3.10.8"
  }
 },
 "nbformat": 4,
 "nbformat_minor": 5
}
