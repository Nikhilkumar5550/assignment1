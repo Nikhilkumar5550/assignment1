{
 "cells": [
  {
   "cell_type": "markdown",
   "id": "7c147785-d0a5-4bcc-be35-a7d561ded01e",
   "metadata": {},
   "source": [
    "Q1. You are writing code for a company. The requirement of the company is that you create a python\n",
    "\n",
    "function that will check whether the password entered by the user is correct or not. The function should take the password as input and return the string “Valid Password” if the entered password follows the below-given password guidelines else it should return “Invalid Password”. Note: 1. The Password should contain at least two uppercase letters and at least two lowercase letters. 2. The Password should contain at least a number and three special characters. 3. The length of the password should be 10 characters long."
   ]
  },
  {
   "cell_type": "code",
   "execution_count": null,
   "id": "eaddef1c-9743-484c-907e-21192df74efd",
   "metadata": {},
   "outputs": [],
   "source": [
    "l, u, p, d = 0, 0, 0, 0\n",
    "s = input('enter your password:') \n",
    "capitalalphabets=\"ABCDEFGHIJKLMNOPQRSTUVWXYZ\"\n",
    "smallalphabets=\"abcdefghijklmnopqrstuvwxyz\"\n",
    "specialchar=\"$@_\"\n",
    "digits=\"0123456789\"\n",
    "if (len(s) >= 10):\n",
    "    for i in s:\n",
    " \n",
    "        # counting lowercase alphabets\n",
    "        if (i in smallalphabets):\n",
    "            l+=1        \n",
    " \n",
    "        # counting uppercase alphabets\n",
    "        if (i in capitalalphabets):\n",
    "            u+=1           \n",
    " \n",
    "        # counting digits\n",
    "        if (i in digits):\n",
    "            d+=1           \n",
    " \n",
    "        # counting the mentioned special characters\n",
    "        if(i in specialchar):\n",
    "            p+=1       \n",
    "if (l>=2 and u>=2 and p>=3 and d>=1 and l+p+u+d==len(s)):\n",
    "    print(\"Valid Password\")\n",
    "else:\n",
    "    print(\"Invalid Password\")"
   ]
  },
  {
   "cell_type": "markdown",
   "id": "76765928-de57-453a-b89a-e118edd0525e",
   "metadata": {},
   "source": [
    "Q2. Solve the below-given questions using at least one of the following:\n",
    "\n",
    "Lambda functioJ\n",
    "\n",
    "Filter functioJ\n",
    "\n",
    "Map functioJ\n",
    "\n",
    "List ComprehensioI\n",
    "\n",
    "B Check if the string starts with a particular letterY B Check if the string is numericY B Sort a list of tuples having fruit names and their quantity. [(\"mango\",99),(\"orange\",80), (\"grapes\", 1000)- B Find the squares of numbers from 1 to 10Y B Find the cube root of numbers from 1 to 10Y B Check if a given number is evenY B Filter odd numbers from the given list. [1,2,3,4,5,6,7,8,9,10- B Sort a list of integers into positive and negative integers lists. [1,2,3,4,5,6,-1,-2,-3,-4,-5,0]"
   ]
  },
  {
   "cell_type": "code",
   "execution_count": 2,
   "id": "21fc0f11-a9a8-4f29-b3c2-3c16e9dc8428",
   "metadata": {},
   "outputs": [
    {
     "name": "stdout",
     "output_type": "stream",
     "text": [
      "l\n"
     ]
    }
   ],
   "source": [
    "#Check if the string starts with a particular letter\n",
    "from functools import reduce\n",
    "lst=\"loop\"\n",
    "print(reduce(lambda x,y: x if x=='l' else y ,lst))"
   ]
  },
  {
   "cell_type": "code",
   "execution_count": 1,
   "id": "1aa080e1-334c-4002-944f-cd63a8bc612d",
   "metadata": {},
   "outputs": [
    {
     "name": "stdout",
     "output_type": "stream",
     "text": [
      "True\n"
     ]
    }
   ],
   "source": [
    "#Check if the string is numeric\n",
    "is_num = lambda q: q.replace('.','',1).isdigit()\n",
    "print(is_num('26587'))"
   ]
  },
  {
   "cell_type": "code",
   "execution_count": 3,
   "id": "453fc1ae-dede-410c-8d16-7821de55e430",
   "metadata": {},
   "outputs": [
    {
     "name": "stdout",
     "output_type": "stream",
     "text": [
      "The original list is : [('mango', 99), ('orange', 80), ('grapes', 1000)]\n",
      "The sort order list is : [1000, 99, 80]\n",
      "The list after appropriate sorting : [('grapes', 1000), ('mango', 99), ('orange', 80)]\n"
     ]
    }
   ],
   "source": [
    "#Sort a list of tuples having fruit names and their quantity. \n",
    "l6=[(\"mango\",99),(\"orange\",80), (\"grapes\", 1000)]\n",
    "sort_order = [1000,99,80]\n",
    "print(\"The original list is : \" + str(l6))\n",
    "print(\"The sort order list is : \" + str(sort_order))\n",
    "res = [i for j in sort_order\n",
    "       for i in filter(lambda k: k[1] == j, l6)]\n",
    "print(\"The list after appropriate sorting : \" + str(res))"
   ]
  },
  {
   "cell_type": "code",
   "execution_count": 4,
   "id": "fd65c518-766c-4363-b88b-3cf4582a06a4",
   "metadata": {},
   "outputs": [
    {
     "name": "stdout",
     "output_type": "stream",
     "text": [
      "[[0, 1, 4, 9, 16, 25, 36, 49, 64, 81]]\n"
     ]
    }
   ],
   "source": [
    "#Find the squares of numbers from 1 to 10\n",
    "def squares(start, end):\n",
    "    squares = [value ** 2 for value in range(0, 10)]\n",
    "    return [squares]\n",
    "print(squares(0, 10))"
   ]
  },
  {
   "cell_type": "code",
   "execution_count": 5,
   "id": "50f5c640-a1e7-430a-bbd3-b2d33be4d8fb",
   "metadata": {},
   "outputs": [
    {
     "name": "stdout",
     "output_type": "stream",
     "text": [
      "[[0.0, 1.0, 1.2599210498948732, 1.4422495703074083, 1.5874010519681994, 1.7099759466766968, 1.8171205928321397, 1.912931182772389, 2.0, 2.080083823051904]]\n"
     ]
    }
   ],
   "source": [
    "#Find the cube root of numbers from 1 to 10\n",
    "def cubeRt(start, end):\n",
    "    cubeRt = [value **(1/3) for value in range(0, 10)]\n",
    "    return [cubeRt]\n",
    "print(cubeRt(0, 10))"
   ]
  },
  {
   "cell_type": "code",
   "execution_count": 6,
   "id": "0e19315e-a111-4e25-b2b4-062a58adc966",
   "metadata": {},
   "outputs": [
    {
     "name": "stdin",
     "output_type": "stream",
     "text": [
      "Enter a number :  5\n"
     ]
    },
    {
     "name": "stdout",
     "output_type": "stream",
     "text": [
      "Odd Number\n"
     ]
    }
   ],
   "source": [
    "#Check if a given number is even.\n",
    "number = int(input(\"Enter a number : \"))\n",
    "odd_even = lambda : \"Even Number\" if number % 2 == 0 else \"Odd Number\"\n",
    "print(odd_even())"
   ]
  },
  {
   "cell_type": "code",
   "execution_count": 7,
   "id": "14a6fc41-e188-447f-b305-be6865024529",
   "metadata": {},
   "outputs": [
    {
     "name": "stdout",
     "output_type": "stream",
     "text": [
      "[1, 3, 5, 7, 9]\n"
     ]
    }
   ],
   "source": [
    "#Filter odd numbers from the given list.\n",
    "l7=[1,2,3,4,5,6,7,8,9,10]\n",
    "print(list(filter(lambda x :x%2!=0 ,l7)))"
   ]
  },
  {
   "cell_type": "code",
   "execution_count": 8,
   "id": "d8ab0984-e949-4012-ab4f-1fa3eacc2ad6",
   "metadata": {},
   "outputs": [
    {
     "name": "stdout",
     "output_type": "stream",
     "text": [
      "[-1, -2, -3, -4, -5]\n",
      "[1, 2, 3, 4, 5, 6, 0]\n"
     ]
    }
   ],
   "source": [
    "#Sort a list of integers into positive and negative integers lists.\n",
    "l8=[1,2,3,4,5,6,-1,-2,-3,-4,-5,0]\n",
    "print(list(filter(lambda x :x<0 ,l8))) #printing negative integers\n",
    "print(list(filter(lambda x :x>=0 ,l8))) #printing positive integers"
   ]
  },
  {
   "cell_type": "code",
   "execution_count": null,
   "id": "7ba18d3f-e8d7-42b9-bdb5-7ef49fb7a38d",
   "metadata": {},
   "outputs": [],
   "source": []
  },
  {
   "cell_type": "code",
   "execution_count": null,
   "id": "b8739b0e-517b-4d3e-b751-e167e14fe421",
   "metadata": {},
   "outputs": [],
   "source": []
  },
  {
   "cell_type": "code",
   "execution_count": null,
   "id": "f3895c64-cbd3-4471-a4ff-d890ac938239",
   "metadata": {},
   "outputs": [],
   "source": []
  },
  {
   "cell_type": "code",
   "execution_count": null,
   "id": "db95a447-9537-47b3-9327-9eb72c33a516",
   "metadata": {},
   "outputs": [],
   "source": []
  }
 ],
 "metadata": {
  "kernelspec": {
   "display_name": "Python 3 (ipykernel)",
   "language": "python",
   "name": "python3"
  },
  "language_info": {
   "codemirror_mode": {
    "name": "ipython",
    "version": 3
   },
   "file_extension": ".py",
   "mimetype": "text/x-python",
   "name": "python",
   "nbconvert_exporter": "python",
   "pygments_lexer": "ipython3",
   "version": "3.10.8"
  }
 },
 "nbformat": 4,
 "nbformat_minor": 5
}
