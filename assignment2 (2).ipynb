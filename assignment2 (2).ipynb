{
 "cells": [
  {
   "cell_type": "code",
   "execution_count": null,
   "id": "d87daba7-767f-412a-83a5-fd85aa59f339",
   "metadata": {},
   "outputs": [],
   "source": [
    "# Assignment solution\n",
    "# 30 jan 2023"
   ]
  },
  {
   "cell_type": "code",
   "execution_count": 2,
   "id": "3f0109c3-db2b-49b4-9b5c-48e771151184",
   "metadata": {},
   "outputs": [
    {
     "name": "stdin",
     "output_type": "stream",
     "text": [
      "enter your percentage 66\n"
     ]
    },
    {
     "name": "stdout",
     "output_type": "stream",
     "text": [
      "You Got Grade C\n"
     ]
    }
   ],
   "source": [
    "# solution 1\n",
    "\n",
    "percentage=float(input(\"enter your percentage\"))\n",
    "if percentage>90:\n",
    "    print(\"You got Grade A\")\n",
    "elif percentage>80 and percentage<=90:\n",
    "    print(\"You Got Grede B\")\n",
    "elif percentage>=60 and percentage<=80:\n",
    "    print(\"You Got Grade C\")\n",
    "else:\n",
    "    print(\"You Got Grade D\")"
   ]
  },
  {
   "cell_type": "code",
   "execution_count": 4,
   "id": "eb0521d4-acb1-44eb-8fb2-df6fec6fc66f",
   "metadata": {},
   "outputs": [
    {
     "name": "stdin",
     "output_type": "stream",
     "text": [
      "enter your bike price 600000\n"
     ]
    },
    {
     "name": "stdout",
     "output_type": "stream",
     "text": [
      "Road tax 15% to be paid\n"
     ]
    }
   ],
   "source": [
    "# solution 2\n",
    "\n",
    "price=int(input(\"enter your bike price\"))\n",
    "if price>100000:\n",
    "    print(\"Road tax 15% to be paid\")\n",
    "elif price>50000 and price<=100000:\n",
    "    print(\"Road tax 10% to be paid\")\n",
    "else:\n",
    "    print(\"Road tax 5% to be paid\")\n",
    "    "
   ]
  },
  {
   "cell_type": "code",
   "execution_count": 7,
   "id": "1fb5081d-a5b9-4c47-a277-7bca9a813b7a",
   "metadata": {},
   "outputs": [
    {
     "name": "stdin",
     "output_type": "stream",
     "text": [
      "enter your city name Jaipur\n"
     ]
    },
    {
     "name": "stdout",
     "output_type": "stream",
     "text": [
      "Jal Mahal\n"
     ]
    }
   ],
   "source": [
    "# solution 3\n",
    "\n",
    "city_name=input(\"enter your city name\")\n",
    "if city_name==\"Delhi\":\n",
    "    print(\"Red Fort\")\n",
    "elif city_name==\"Agra\":\n",
    "    print(\"Taj Mahal\")\n",
    "elif city_name==\"Jaipur\":\n",
    "    print(\"Jal Mahal\")"
   ]
  },
  {
   "cell_type": "code",
   "execution_count": 11,
   "id": "728c43e3-ec73-4fa3-8356-932499d55d4f",
   "metadata": {},
   "outputs": [
    {
     "name": "stdin",
     "output_type": "stream",
     "text": [
      "enter a number 90\n"
     ]
    },
    {
     "name": "stdout",
     "output_type": "stream",
     "text": [
      "3\n"
     ]
    }
   ],
   "source": [
    "# solution 4\n",
    "\n",
    "def count_divisions(number):\n",
    "    count= 0\n",
    "    while number >= 10:\n",
    "        number = number/ 3\n",
    "        count += 1\n",
    "    return count\n",
    "number=int(input(\"enter a number\"))\n",
    "print(count_divisions(number))"
   ]
  },
  {
   "cell_type": "code",
   "execution_count": 1,
   "id": "a59dd776-837d-4a3b-8d71-9adc53f07e27",
   "metadata": {},
   "outputs": [
    {
     "name": "stdout",
     "output_type": "stream",
     "text": [
      "[0, 1, 2, 3, 4, 5, 6, 7, 8, 9, 10, 11, 12, 13, 14, 15, 16, 17, 18, 19]\n"
     ]
    }
   ],
   "source": [
    "#solution 5:\n",
    "\n",
    "\"\"\"while loop-  we can execute a set of statement as long as a condition is true.\n",
    "the while loop requires relevant variables to be ready.\n",
    "while loop is used to run a block code until a certain condition is not true.\"\"\"\n",
    "\n",
    "\n",
    "i=0\n",
    "l1=[]\n",
    "while i<20:\n",
    "    l1.append(i)\n",
    "    i+=1\n",
    "    \n",
    "print(l1)\n",
    "\n"
   ]
  },
  {
   "cell_type": "code",
   "execution_count": 2,
   "id": "d0a8406b-f478-43e5-9d7f-9fb50a24763d",
   "metadata": {},
   "outputs": [
    {
     "name": "stdin",
     "output_type": "stream",
     "text": [
      "enter number of row :  6\n"
     ]
    },
    {
     "name": "stdout",
     "output_type": "stream",
     "text": [
      "* \n",
      "* * \n",
      "* * * \n",
      "* * * * \n",
      "* * * * * \n",
      "* * * * * * \n"
     ]
    }
   ],
   "source": [
    "# solution 6\n",
    "\n",
    "n= int(input(\"enter number of row : \"))\n",
    "i=1\n",
    "while i<=n:\n",
    "    j=1\n",
    "    while j<=i:\n",
    "        print(\"*\",end=\" \")\n",
    "        j=j+1\n",
    "    print()\n",
    "    i=i+1"
   ]
  },
  {
   "cell_type": "code",
   "execution_count": 1,
   "id": "fd5f0490-f1a5-4caa-9016-69cbf39a8bf6",
   "metadata": {},
   "outputs": [
    {
     "name": "stdin",
     "output_type": "stream",
     "text": [
      "enter number of rows : 5\n"
     ]
    },
    {
     "name": "stdout",
     "output_type": "stream",
     "text": [
      "* * * * * \n",
      "* * * * * \n",
      "* * * * * \n",
      "* * * * * \n",
      "* * * * * \n"
     ]
    }
   ],
   "source": [
    "# solution 6\n",
    "n=int(input(\"enter number of rows :\"))\n",
    "i=1\n",
    "while i<=n:\n",
    "    j=1\n",
    "    while j<=n:\n",
    "        print(\"*\",end=\" \")\n",
    "        j=j+1\n",
    "    print()\n",
    "    i=i+1"
   ]
  },
  {
   "cell_type": "code",
   "execution_count": 1,
   "id": "4108312a-e354-4817-9f49-4b6e8a1d1a77",
   "metadata": {},
   "outputs": [
    {
     "name": "stdin",
     "output_type": "stream",
     "text": [
      "enter number of rows 5\n"
     ]
    },
    {
     "name": "stdout",
     "output_type": "stream",
     "text": [
      "          * \n",
      "        * * \n",
      "      * * * \n",
      "    * * * * \n",
      "  * * * * * \n"
     ]
    }
   ],
   "source": [
    "# solution 6\n",
    "n=int(input(\"enter number of rows\"))\n",
    "i=1\n",
    "while i<=n:\n",
    "    j=n\n",
    "    k=1\n",
    "    while j>=i:\n",
    "        print(\" \",end=\" \")\n",
    "        j=j-1\n",
    "    while k<=i:\n",
    "        print(\"*\",end=\" \")\n",
    "        k=k+1\n",
    "    print()\n",
    "    i=i+1"
   ]
  },
  {
   "cell_type": "code",
   "execution_count": 2,
   "id": "858d51f5-08a6-454c-9d8b-505818bac318",
   "metadata": {},
   "outputs": [
    {
     "name": "stdout",
     "output_type": "stream",
     "text": [
      "10\n",
      "9\n",
      "8\n",
      "7\n",
      "6\n",
      "5\n",
      "4\n",
      "3\n",
      "2\n",
      "1\n"
     ]
    }
   ],
   "source": [
    "# solution 7\n",
    "number=10\n",
    "while number>=1:\n",
    "    print(number)\n",
    "    number-=1"
   ]
  },
  {
   "cell_type": "code",
   "execution_count": 3,
   "id": "e7e0a338-4574-452f-9c56-7bb4d388bee1",
   "metadata": {},
   "outputs": [
    {
     "name": "stdout",
     "output_type": "stream",
     "text": [
      "10\n",
      "9\n",
      "8\n",
      "7\n",
      "6\n",
      "5\n",
      "4\n",
      "3\n",
      "2\n",
      "1\n"
     ]
    }
   ],
   "source": [
    "#solution 8\n",
    "\n",
    "num=10\n",
    "while num>=1:\n",
    "    print(num)\n",
    "    num=num-1"
   ]
  },
  {
   "cell_type": "code",
   "execution_count": null,
   "id": "e1a03a7b-d80b-440d-b07c-c6b778d0627a",
   "metadata": {},
   "outputs": [],
   "source": []
  },
  {
   "cell_type": "code",
   "execution_count": null,
   "id": "b6d844c6-8db7-4007-a6fb-ffc437d861fc",
   "metadata": {},
   "outputs": [],
   "source": []
  },
  {
   "cell_type": "code",
   "execution_count": null,
   "id": "fc5bcc6f-14d5-4888-808f-984e83207450",
   "metadata": {},
   "outputs": [],
   "source": []
  },
  {
   "cell_type": "code",
   "execution_count": null,
   "id": "46252454-fc89-41e2-865e-f26d82c817a3",
   "metadata": {},
   "outputs": [],
   "source": []
  }
 ],
 "metadata": {
  "kernelspec": {
   "display_name": "Python 3 (ipykernel)",
   "language": "python",
   "name": "python3"
  },
  "language_info": {
   "codemirror_mode": {
    "name": "ipython",
    "version": 3
   },
   "file_extension": ".py",
   "mimetype": "text/x-python",
   "name": "python",
   "nbconvert_exporter": "python",
   "pygments_lexer": "ipython3",
   "version": "3.10.8"
  }
 },
 "nbformat": 4,
 "nbformat_minor": 5
}
