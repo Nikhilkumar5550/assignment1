{
 "cells": [
  {
   "cell_type": "markdown",
   "id": "b21c7337-f043-4b5c-8548-0209416ad289",
   "metadata": {},
   "source": [
    "Question 1.Which keyword is used to create a function? Create a function to return a list of odd numbers in the range of 1 to 25.\n",
    "Answer: The \"def\" keyword is used to create a function."
   ]
  },
  {
   "cell_type": "code",
   "execution_count": null,
   "id": "04ba74a5-6d6b-423e-b446-4649f306c999",
   "metadata": {},
   "outputs": [],
   "source": [
    "# function to return a list of odd numbers.\n",
    "def odd_nums():\n",
    "    n=[]\n",
    "    for i in range(1,50):\n",
    "        if i%2!=0:\n",
    "           n.append(i)\n",
    "    return n "
   ]
  },
  {
   "cell_type": "code",
   "execution_count": 12,
   "id": "9e50b8c7-84b8-4353-8c3c-05e8a9248dc7",
   "metadata": {},
   "outputs": [
    {
     "data": {
      "text/plain": [
       "[1,\n",
       " 3,\n",
       " 5,\n",
       " 7,\n",
       " 9,\n",
       " 11,\n",
       " 13,\n",
       " 15,\n",
       " 17,\n",
       " 19,\n",
       " 21,\n",
       " 23,\n",
       " 25,\n",
       " 27,\n",
       " 29,\n",
       " 31,\n",
       " 33,\n",
       " 35,\n",
       " 37,\n",
       " 39,\n",
       " 41,\n",
       " 43,\n",
       " 45,\n",
       " 47,\n",
       " 49]"
      ]
     },
     "execution_count": 12,
     "metadata": {},
     "output_type": "execute_result"
    }
   ],
   "source": [
    "odd_nums()"
   ]
  },
  {
   "cell_type": "markdown",
   "id": "3bc0fb15-09ce-4c30-bf1f-16d6daf5e3b2",
   "metadata": {},
   "source": [
    "Q2.Why *args and **kwargs is used in some functions? Create a function each for *args and **kwargs to demonstrate their use.\n",
    "Answer: We can use args and kwargs as arguments of a function when we are unsure about the number of arguments to pass in the functions. args allows \n",
    "        us to pass a variable number of non-keyword arguments to a Python function.**kwargs allows us to pass a variable number\n",
    "        of key:value arguments to a Python function"
   ]
  },
  {
   "cell_type": "code",
   "execution_count": 15,
   "id": "cffda3c7-92ad-422e-8273-4ac403c788df",
   "metadata": {},
   "outputs": [
    {
     "name": "stdout",
     "output_type": "stream",
     "text": [
      "[[45, 89, 10], ['nikhil', 'neha', 'raj']]\n"
     ]
    }
   ],
   "source": [
    "# function for *args\n",
    "# Here in this function it will create the list using function *args ,\n",
    "def test_3(*args):\n",
    "    l1=[]\n",
    "    for i in args:\n",
    "        if type(i) == list:\n",
    "            l1.append(i)\n",
    "    return l1\n",
    "print(test_3(1,2,3,4,56,[45,89,10],[\"nikhil\",\"neha\",\"raj\"],\"reddy\")) "
   ]
  },
  {
   "cell_type": "code",
   "execution_count": 18,
   "id": "60c2bf9a-0c2b-4b5c-ab42-c06620f9a52f",
   "metadata": {},
   "outputs": [
    {
     "name": "stdout",
     "output_type": "stream",
     "text": [
      "{'a': 5, 'b': 50, 'c': 'reddy', 'd': 'malathi', 'e': [10, 23, 'manasa']}\n"
     ]
    }
   ],
   "source": [
    "# function for **kwargs\n",
    "# Here in this function it will create the dictionary using function **kwargs ,\n",
    "def test_4(**kwargs):\n",
    "    return kwargs\n",
    "print(test_4(a=5,b=50,c='reddy',d='malathi',e=[10,23,'manasa']))"
   ]
  },
  {
   "cell_type": "markdown",
   "id": "65a02cdd-3da1-4254-9444-bbe7eb3f0279",
   "metadata": {},
   "source": [
    "Question 3:What is an iterator in python? Name the method used to initialise the iterator object and the method used for iteration.Use these methods to print \n",
    "           the first five elements of the given list [2, 4, 6, 8, 10, 12, 14, 16, 18, 20].\n",
    "Answer: An iterator is an object that contains a countable number of values. The iterator object is initialized using the iter() method.It uses \n",
    " n       the next() method for iteration."
   ]
  },
  {
   "cell_type": "code",
   "execution_count": 19,
   "id": "2c51a5b3-a303-4bba-9af3-c3fcfb070f9d",
   "metadata": {},
   "outputs": [
    {
     "name": "stdout",
     "output_type": "stream",
     "text": [
      "2\n",
      "4\n",
      "6\n",
      "8\n",
      "10\n"
     ]
    }
   ],
   "source": [
    "lst = [2, 4, 6, 8, 10, 12, 14, 16, 18, 20]\n",
    "iterator = iter(lst)\n",
    "\n",
    "print(next(iterator)) \n",
    "print(next(iterator))  \n",
    "print(next(iterator))\n",
    "print(next(iterator))  \n",
    "print(next(iterator))"
   ]
  },
  {
   "cell_type": "markdown",
   "id": "69f10982-28fd-4a2b-ae6b-38f5cf9392ce",
   "metadata": {},
   "source": [
    "Question 4.What is a generator function in python? Why yield keyword is used? Give an example of a generator function.\n",
    "Answer: In Python, a generator is a function that returns an iterator that produces a sequence of values when iterated over. Generators are useful when \n",
    "        we want to produce a large sequence of values, but we don't want to store all of them in memory at once. yield keyword is used to create a\n",
    "         generator function. A type of function that is memory efficient and can be used like an iterator object."
   ]
  },
  {
   "cell_type": "code",
   "execution_count": 20,
   "id": "85b91b43-5106-458c-9a62-eedba1ba0982",
   "metadata": {},
   "outputs": [
    {
     "name": "stdout",
     "output_type": "stream",
     "text": [
      "0\n",
      "1\n",
      "1\n",
      "2\n",
      "3\n",
      "5\n",
      "8\n",
      "13\n",
      "21\n",
      "34\n"
     ]
    }
   ],
   "source": [
    "# example of generator function \n",
    "# generating fibonacci series\n",
    "def test_fib(n):\n",
    "    a,b=0,1\n",
    "    for i in range(n):\n",
    "        yield a\n",
    "        a,b=b,a+b\n",
    "\n",
    "for j in test_fib(10): \n",
    "    print(j)"
   ]
  },
  {
   "cell_type": "markdown",
   "id": "b3bbf4c6-a8bb-4343-9fea-b160d209bb88",
   "metadata": {},
   "source": [
    "Q5.Create a generator function for prime numbers less than 1000. Use the next() method to print the first 20 prime numbers"
   ]
  },
  {
   "cell_type": "code",
   "execution_count": 22,
   "id": "228b808c-985d-4eb2-b4b5-4c946176c005",
   "metadata": {},
   "outputs": [
    {
     "name": "stdout",
     "output_type": "stream",
     "text": [
      "2\n",
      "3\n",
      "4\n",
      "5\n",
      "7\n",
      "11\n",
      "13\n",
      "17\n",
      "19\n",
      "23\n",
      "29\n",
      "31\n",
      "37\n",
      "41\n",
      "43\n",
      "47\n",
      "53\n",
      "59\n",
      "61\n",
      "67\n"
     ]
    }
   ],
   "source": [
    "def prime_generator():\n",
    "    yield 2\n",
    "    p1=[]\n",
    "    for i in range(3,1000):\n",
    "        is_prime=True\n",
    "        for prime in p1:\n",
    "            if i % prime ==0:\n",
    "                is_prime=False\n",
    "                break\n",
    "        if is_prime:\n",
    "            p1.append(i)\n",
    "            yield i\n",
    "\n",
    "prime= prime_generator()\n",
    "\n",
    "for i in range(20):\n",
    "    print(next(prime))"
   ]
  },
  {
   "cell_type": "code",
   "execution_count": null,
   "id": "204eacc9-7c19-4b40-9cee-4dc0071be76b",
   "metadata": {},
   "outputs": [],
   "source": []
  },
  {
   "cell_type": "code",
   "execution_count": null,
   "id": "bea1872f-3d47-4d2c-93db-7845a7caa5fb",
   "metadata": {},
   "outputs": [],
   "source": []
  },
  {
   "cell_type": "code",
   "execution_count": null,
   "id": "6a6a66a6-f773-4618-a832-308c0ea6f433",
   "metadata": {},
   "outputs": [],
   "source": []
  }
 ],
 "metadata": {
  "kernelspec": {
   "display_name": "Python 3 (ipykernel)",
   "language": "python",
   "name": "python3"
  },
  "language_info": {
   "codemirror_mode": {
    "name": "ipython",
    "version": 3
   },
   "file_extension": ".py",
   "mimetype": "text/x-python",
   "name": "python",
   "nbconvert_exporter": "python",
   "pygments_lexer": "ipython3",
   "version": "3.10.8"
  }
 },
 "nbformat": 4,
 "nbformat_minor": 5
}
