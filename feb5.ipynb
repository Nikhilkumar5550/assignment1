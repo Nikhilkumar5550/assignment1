{
 "cells": [
  {
   "cell_type": "markdown",
   "id": "8a481d1c-afc4-4c82-b4ae-08033aa7a0ed",
   "metadata": {},
   "source": [
    "Q1.Explain Class and Object with respect to Object-Oriented Programming. Give a suitable example.\n",
    "\n",
    "\n",
    "Answer: In Python everything is an object, with its properties and methods.A Class is like  a \"blueprint\" for creating objects."
   ]
  },
  {
   "cell_type": "code",
   "execution_count": 1,
   "id": "a1860ba6-669a-4658-bcb1-fe15d56afacc",
   "metadata": {},
   "outputs": [
    {
     "name": "stdout",
     "output_type": "stream",
     "text": [
      "10\n"
     ]
    }
   ],
   "source": [
    "class MyClass:\n",
    "  x = 10\n",
    "\n",
    "X1 = MyClass()\n",
    "print(X1.x)"
   ]
  },
  {
   "cell_type": "markdown",
   "id": "6b59319a-7c9c-49db-a6b0-be6760cee3a4",
   "metadata": {},
   "source": [
    "Q2.Name the four pillars of OOPs.\n",
    "\n",
    "Answer:Four pillar of OOPs :Inheritance, Polymorphism, Encapsulation and Abstraction"
   ]
  },
  {
   "cell_type": "markdown",
   "id": "596d18eb-2e2b-4403-aa54-725572929f00",
   "metadata": {},
   "source": [
    "Q3.Explain why the init() function is used. Give a suitable example.\n",
    "\n",
    "Answer: The init() function is used to assign values to object properties, or other operations that are necessary to do when the object is being created"
   ]
  },
  {
   "cell_type": "code",
   "execution_count": 2,
   "id": "ae29fd24-80c3-447c-a250-bdb3c4dbf8ea",
   "metadata": {},
   "outputs": [
    {
     "name": "stdout",
     "output_type": "stream",
     "text": [
      "Hello, my name is Nikhil\n"
     ]
    }
   ],
   "source": [
    "#Example of __init__()\n",
    "class Person:\n",
    "    def __init__(self, name):\n",
    "        self.name = name\n",
    "    def hyy(self):\n",
    "        print('Hello, my name is', self.name)\n",
    "        \n",
    "p = Person('Nikhil')\n",
    "p.hyy()"
   ]
  },
  {
   "cell_type": "markdown",
   "id": "094bb666-007f-4a47-b46e-56fa0fc1e8b4",
   "metadata": {},
   "source": [
    "Q4.Why self is used in OOPs?\n",
    "\n",
    "Answer:The self parameter is a reference to the current instance of the class, and is used to access variables that belongs to the class.It does not have to be named self , you can call it whatever you like, but it has to be the first parameter of any function in the class"
   ]
  },
  {
   "cell_type": "markdown",
   "id": "5cb86e9c-bb79-4730-8c52-fa050460acba",
   "metadata": {},
   "source": [
    "Q5.What is inheritance? Give an example for each type of inheritance.\n",
    "\n",
    "Answer:Inheritance allows us to define a class that inherits all the methods and properties from another class.Parent class is the class being inherited from, also called base class.Child class is the class that inherits from another class, also called derived class."
   ]
  },
  {
   "cell_type": "markdown",
   "id": "99fec9ab-5d4c-40cd-b244-f747fe0a6539",
   "metadata": {},
   "source": [
    "There are five types of inheritances:\n",
    "    \n",
    "Single Inheritance\n",
    "\n",
    "Multiple Inheritance\n",
    "\n",
    "Multilevel Inheritance\n",
    "\n",
    "Hierarchical Inheritance\n",
    "\n",
    "Hybrid Inheritance"
   ]
  },
  {
   "cell_type": "code",
   "execution_count": 4,
   "id": "13e691db-29f4-4bf6-90d9-f23ec76cbccc",
   "metadata": {},
   "outputs": [],
   "source": [
    "class classa:\n",
    "    i = 5\n",
    "    def fun1(self):\n",
    "        print('This is parent class')\n",
    "\n",
    "#subclass\n",
    "class classb(classa):\n",
    "    i=10\n",
    "    def fun2(self):\n",
    "        print('This is sub class')"
   ]
  },
  {
   "cell_type": "code",
   "execution_count": 5,
   "id": "8e1c1c9f-61b9-478c-a6fe-99da2ca04cc0",
   "metadata": {},
   "outputs": [
    {
     "name": "stdout",
     "output_type": "stream",
     "text": [
      "This is parent class\n",
      "This is sub class\n",
      "This is parent class\n",
      "10\n",
      "5\n"
     ]
    }
   ],
   "source": [
    "temp1=classb()\n",
    "temp2=classa()\n",
    "temp1.fun1()\n",
    "temp1.fun2()\n",
    "temp2.fun1()\n",
    "print(temp1.i)\n",
    "print(temp2.i)"
   ]
  },
  {
   "cell_type": "code",
   "execution_count": 6,
   "id": "4da894ca-29ee-4171-96de-50b7b6e46925",
   "metadata": {},
   "outputs": [],
   "source": [
    "#example of multiple Inheritance\n",
    "#parent class 1\n",
    "class A:\n",
    "    demo1=0\n",
    "    def fun1(self):\n",
    "        print(self.demo1)\n",
    "\n",
    "#parent class 2\n",
    "class B:\n",
    "    demo2=0\n",
    "    def fun2(self):\n",
    "        print(self.demo2)\n",
    "\n",
    "#child class\n",
    "class C(A, B):\n",
    "    def fun3(self):\n",
    "         print('This is child class')"
   ]
  },
  {
   "cell_type": "code",
   "execution_count": 8,
   "id": "bc261a20-bc14-4640-bc21-f98d6b2ed660",
   "metadata": {},
   "outputs": [
    {
     "name": "stdout",
     "output_type": "stream",
     "text": [
      "This is child class\n",
      "first number is : 100\n",
      "second number is : 50\n"
     ]
    }
   ],
   "source": [
    "c = C()\n",
    "c.demo1 = 100\n",
    "c.demo2 = 50\n",
    "c.fun3()\n",
    "print('first number is :',c.demo1)\n",
    "print('second number is :',c.demo2)"
   ]
  },
  {
   "cell_type": "code",
   "execution_count": 9,
   "id": "45e43dcf-778d-41cc-8e74-0a90738f5fac",
   "metadata": {},
   "outputs": [],
   "source": [
    "#example of Hierarchical Inheritance\n",
    "#parent class\n",
    "class Parent:\n",
    "    def fun1(self):\n",
    "        print('this is the parent class')\n",
    " \n",
    "#child class 1\n",
    "class child1(Parent):\n",
    "    def fun2(self):\n",
    "        print('this is  the child class 1')\n",
    "\n",
    "#child class 2 \n",
    "class child2(Parent):\n",
    "    def fun3(self):\n",
    "        print('this is  the child class 2')\n",
    " \n",
    "#child class 3\n",
    "class child3(Parent):\n",
    "    def fun4(self):\n",
    "        print('this is the child class 3')\n",
    " "
   ]
  },
  {
   "cell_type": "code",
   "execution_count": 10,
   "id": "81c20001-1586-47b0-86b1-8c43aaf61537",
   "metadata": {},
   "outputs": [
    {
     "name": "stdout",
     "output_type": "stream",
     "text": [
      "this is the parent class\n",
      "this is the child class 3\n",
      "this is the parent class\n",
      "this is  the child class 2\n",
      "this is the parent class\n",
      "this is  the child class 1\n"
     ]
    }
   ],
   "source": [
    "child_obj1 = child3()\n",
    "child_obj2 = child2()\n",
    "child_obj3 = child1()\n",
    "child_obj1.fun1()\n",
    "child_obj1.fun4()\n",
    "child_obj2.fun1()\n",
    "child_obj2.fun3()\n",
    "child_obj3.fun1()\n",
    "child_obj3.fun2()"
   ]
  },
  {
   "cell_type": "code",
   "execution_count": 11,
   "id": "aad19655-9801-4087-a623-bb6a54152bb3",
   "metadata": {},
   "outputs": [
    {
     "name": "stdout",
     "output_type": "stream",
     "text": [
      "this is  class D\n",
      "this is  class C\n",
      "this is  class A\n"
     ]
    }
   ],
   "source": [
    "##example of hybrid Inheritance\n",
    "class A:\n",
    "    def fun1(self):\n",
    "        print('this is  class A')\n",
    "class B(A):\n",
    "    def fun2(self):\n",
    "        print('this is  class B')\n",
    "class C(A):\n",
    "    def fun3(self):\n",
    "        print('this is  class C')\n",
    "class D(C,A): #line 13\n",
    "    def fun4(self):\n",
    "         print('this is  class D')\n",
    "ref = D()\n",
    "ref.fun4()\n",
    "ref.fun3()\n",
    "ref.fun1()"
   ]
  },
  {
   "cell_type": "code",
   "execution_count": 12,
   "id": "19f6bee4-60ae-43fe-bf4d-bbbf74947ebb",
   "metadata": {},
   "outputs": [
    {
     "name": "stdout",
     "output_type": "stream",
     "text": [
      "My Class4\n",
      "My Class2\n",
      "My Class3\n",
      "My Class1\n"
     ]
    }
   ],
   "source": [
    "class Class1:\n",
    "    def m(self):\n",
    "        print(\"My Class1\")\n",
    " \n",
    "class Class2(Class1):\n",
    "    def m(self):\n",
    "        print(\"My Class2\")\n",
    "        super().m()\n",
    " \n",
    "class Class3(Class1):\n",
    "    def m(self):\n",
    "        print(\"My Class3\")\n",
    "        super().m()\n",
    " \n",
    "class Class4(Class2, Class3):\n",
    "    def m(self):\n",
    "        print(\"My Class4\")  \n",
    "        super().m()\n",
    "      \n",
    "obj = Class4()\n",
    "obj.m()"
   ]
  },
  {
   "cell_type": "code",
   "execution_count": null,
   "id": "e0a79427-235e-4a1e-ae4b-0307891fed60",
   "metadata": {},
   "outputs": [],
   "source": []
  },
  {
   "cell_type": "code",
   "execution_count": null,
   "id": "e2477ab1-3a9f-4b44-bc59-13be942d4dfa",
   "metadata": {},
   "outputs": [],
   "source": []
  }
 ],
 "metadata": {
  "kernelspec": {
   "display_name": "Python 3 (ipykernel)",
   "language": "python",
   "name": "python3"
  },
  "language_info": {
   "codemirror_mode": {
    "name": "ipython",
    "version": 3
   },
   "file_extension": ".py",
   "mimetype": "text/x-python",
   "name": "python",
   "nbconvert_exporter": "python",
   "pygments_lexer": "ipython3",
   "version": "3.10.8"
  }
 },
 "nbformat": 4,
 "nbformat_minor": 5
}
